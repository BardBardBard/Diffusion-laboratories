{
 "cells": [
  {
   "cell_type": "code",
   "execution_count": 24,
   "id": "c1cd0949",
   "metadata": {},
   "outputs": [],
   "source": [
    "import numpy as np\n",
    "import networkx as nx\n",
    "import random\n",
    "import matplotlib.pyplot as plt\n",
    "import time\n",
    "from numpy.random import uniform"
   ]
  },
  {
   "cell_type": "code",
   "execution_count": 3,
   "id": "e75c856e",
   "metadata": {},
   "outputs": [],
   "source": [
    "#N is number of nodes, k is number of closest neighbours and p is probability that we change edge in single step\n",
    "def Watatz(N=20, k=4, p=1):\n",
    "    if(k%2==1):\n",
    "        raise ValueError (\"Need even number of closest neighbours!\")\n",
    "    \n",
    "    #creates starting graph//do not move\n",
    "    G = nx.Graph()\n",
    "    G.add_nodes_from([i for i in range(N)])\n",
    "    for i in G.nodes:\n",
    "        for ki in range(int(k/2)):\n",
    "            G.add_edges_from([((i+N-1-ki)%N,i), ((i+N+1+ki)%N,i)]) #calculations so N-1 is connected with 0\n",
    "    \n",
    "    #changes link for each\n",
    "    new_G = nx.Graph()\n",
    "    new_G.add_nodes_from(list(G.nodes))\n",
    "    iterator = 0\n",
    "\n",
    "    for link in G.edges:\n",
    "        #relinking\n",
    "        if(random.random()<p): #if we succeed in relinking\n",
    "            new_link = link #for now it is as before\n",
    "            if(random.random()<0.5): #whether relink node 1 or 2 from edge\n",
    "                #we do not want link that already was in network, not that we have in currently created one\n",
    "                while(new_link in list(G.edges)[iterator:] or new_link in new_G.edges):\n",
    "                    for_choice = list(G.nodes)\n",
    "                    for_choice.remove(new_link[0])\n",
    "                    relink = random.choice(for_choice)\n",
    "                    new_link = (new_link[0], relink)\n",
    "                new_G.add_edge(new_link[0], new_link[1])\n",
    "            else: #same procedure, but we change second end of edge\n",
    "                while(new_link in list(G.edges)[iterator:] or new_link in new_G.edges):\n",
    "                    for_choice = list(G.nodes)\n",
    "                    for_choice.remove(new_link[1])\n",
    "                    relink = random.choice(for_choice)\n",
    "                    new_link = (relink, new_link[1])\n",
    "                new_G.add_edge(new_link[0], new_link[1])\n",
    "        else: #we simply add link that existed in starting network\n",
    "            new_G.add_edge(link[0], link[1])\n",
    "        iterator = iterator+1\n",
    "        \n",
    "    #new_G.add_nodes_from(list(G.nodes)) #in case some node got totally unconnected\n",
    "    \n",
    "    return new_G\n",
    "\n",
    "''' we start with m0 nodes and in each step we add node connected to m<m0 previous nodes until we reach N nodes\n",
    "    after t steps we should have N=m0+t nodes and E=m0+mt edges\n",
    "'''\n",
    "def Barabasi(m0, m, t):\n",
    "    '''creating, start from 1 to be similar with previous ones\n",
    "        we want to start with m0 nodes, m0 edges and each link connected,\n",
    "        so I just start with triangle, then add new linked nodes'''\n",
    "    \n",
    "    G = nx.Graph()\n",
    "    G.add_edges_from([(0,1), (0,2), (1,2)])\n",
    "    for i in range(2,m0): \n",
    "        G.add_edge(i, random.choice(list(G.nodes)))\n",
    "        \n",
    "    #now we add new nodes, choose m distinct edges coming from new node\n",
    "    for tau in range(t):\n",
    "        pi = [nx.degree(G, nody)/(sum([nx.degree(G, n) for n in G.nodes])) for nody in G.nodes] #probability for each node\n",
    "        choice_list =  np.random.choice(list(G.nodes), m, p=pi, replace=False) #choose randomly with no repetinions\n",
    "        \n",
    "        for link in choice_list:\n",
    "            G.add_edge(link, tau+m0)\n",
    "         #in case we do not link it to any node\n",
    "      \n",
    "    return G"
   ]
  },
  {
   "cell_type": "markdown",
   "id": "19f7008a",
   "metadata": {},
   "source": [
    "## q-voter"
   ]
  },
  {
   "cell_type": "code",
   "execution_count": null,
   "id": "023b6545",
   "metadata": {},
   "outputs": [],
   "source": [
    "#for 3 dot only save results, plots are for 4th and 5th\n",
    "#for 4th dot choose some values of p, between 0.1 and 0.6, 5 values of p"
   ]
  },
  {
   "cell_type": "code",
   "execution_count": 15,
   "id": "e01a93f6",
   "metadata": {},
   "outputs": [],
   "source": [
    "G_b = nx.barabasi_albert_graph(100, 4)"
   ]
  },
  {
   "cell_type": "code",
   "execution_count": 20,
   "id": "027de5a3",
   "metadata": {},
   "outputs": [],
   "source": [
    "G_test = nx.barabasi_albert_graph(30, 4)"
   ]
  },
  {
   "cell_type": "markdown",
   "id": "e02f3951",
   "metadata": {},
   "source": [
    "If we have less than q neigbours, just skip it"
   ]
  },
  {
   "cell_type": "code",
   "execution_count": 73,
   "id": "ace1dd58",
   "metadata": {},
   "outputs": [],
   "source": [
    "def q_voter(G, q=4, p=0.5, MC_step = 10, time_horizon=10):\n",
    "    nodes = list(G.nodes())\n",
    "    G_size = len(nodes)\n",
    "    opinion_array = 2*np.random.randint(0,2,G_size)-1 #creates array full of either 1 or -1\n",
    "    current_time = 0\n",
    "    mean_opinion = [np.mean(opinion_array)]\n",
    "    time_gone = [current_time]\n",
    "    while(current_time < time_horizon):\n",
    "        for _ in range(MC_step):\n",
    "            current_node = np.random.choice(nodes)\n",
    "            if(random.random()>p): \n",
    "                try:\n",
    "                    list_of_neighbours = np.random.choice(list(G.neighbors(current_node)),size=q)\n",
    "                except: #not enough neigbours to force change of our decision\n",
    "                    break\n",
    "                if(abs(np.mean(opinion_array[list_of_neighbours])==1)): #either all are -1 or 1 \n",
    "                    opinion_array[current_node] = opinion_array[list_of_neighbours[0]] #all have the same state\n",
    "                    \n",
    "                #elif(random.random()<eps):\n",
    "                #    print(\"niezgodni\")\n",
    "                #    opinion_array[current_node]*=-1\n",
    "\n",
    "                opinion_array[current_node] =np.random.choice([-1,1]) #either changes or not their opinion\n",
    "        current_time+=1\n",
    "        mean_opinion.append(np.mean(opinion_array))\n",
    "        time_gone.append(current_time)\n",
    "    return mean_opinion, time_gone"
   ]
  },
  {
   "cell_type": "code",
   "execution_count": 67,
   "id": "872186e9",
   "metadata": {},
   "outputs": [
    {
     "data": {
      "text/plain": [
       "[0.04, 0.02, -0.02, -0.04, 0.02, -0.02, -0.02, 0.0, 0.04, 0.08, 0.06]"
      ]
     },
     "execution_count": 67,
     "metadata": {},
     "output_type": "execute_result"
    }
   ],
   "source": [
    "q_voter(G_b,4,0.5,10,10)"
   ]
  },
  {
   "cell_type": "code",
   "execution_count": 70,
   "id": "150a7f1c",
   "metadata": {},
   "outputs": [
    {
     "data": {
      "text/plain": [
       "[-0.06, -0.1, -0.14, -0.12, -0.12, -0.12, -0.14, -0.12, -0.08, -0.06, -0.06]"
      ]
     },
     "execution_count": 70,
     "metadata": {},
     "output_type": "execute_result"
    }
   ],
   "source": [
    "q_voter(Barabasi(4,4,96),4,0.5,10,10)"
   ]
  },
  {
   "cell_type": "markdown",
   "id": "bbfeee8c",
   "metadata": {},
   "source": [
    "# 1st dot"
   ]
  },
  {
   "cell_type": "markdown",
   "id": "db972e40",
   "metadata": {},
   "source": [
    "# 2nd dot"
   ]
  },
  {
   "cell_type": "markdown",
   "id": "1c7b594c",
   "metadata": {},
   "source": [
    "# 3rd dot"
   ]
  },
  {
   "cell_type": "markdown",
   "id": "fdeb9912",
   "metadata": {},
   "source": [
    "# 4th dot"
   ]
  },
  {
   "cell_type": "code",
   "execution_count": 72,
   "id": "c6717c36",
   "metadata": {},
   "outputs": [],
   "source": [
    "G_w = nx.watts_strogatz_graph(100, 4, 0.01)"
   ]
  },
  {
   "cell_type": "code",
   "execution_count": 83,
   "id": "e70a11e0",
   "metadata": {},
   "outputs": [],
   "source": [
    "m_ops, t_gone = q_voter(G_w,q=4,p=0.1,MC_step=1,time_horizon=1000)\n",
    "m_ops2, t_gone2 = q_voter(G_w,q=4,p=0.1,MC_step=1,time_horizon=1000)"
   ]
  },
  {
   "cell_type": "code",
   "execution_count": 82,
   "id": "61ff485d",
   "metadata": {},
   "outputs": [
    {
     "data": {
      "image/png": "[encoded data removed]",
      "text/plain": [
       "<Figure size 432x288 with 1 Axes>"
      ]
     },
     "metadata": {
      "needs_background": "light"
     },
     "output_type": "display_data"
    }
   ],
   "source": [
    "plt.plot(t_gone, m_ops)\n",
    "plt.title('Watts-Strogatz, magnetization in single run')\n",
    "plt.grid();"
   ]
  },
  {
   "cell_type": "code",
   "execution_count": 85,
   "id": "7d76dd90",
   "metadata": {},
   "outputs": [
    {
     "data": {
      "text/plain": [
       "array([[   0,    1,    2, ...,  998,  999, 1000],\n",
       "       [   0,    1,    2, ...,  998,  999, 1000]])"
      ]
     },
     "execution_count": 85,
     "metadata": {},
     "output_type": "execute_result"
    }
   ],
   "source": [
    "np.vstack([t_gone, t_gone2])"
   ]
  },
  {
   "cell_type": "code",
   "execution_count": 86,
   "id": "2254794e",
   "metadata": {},
   "outputs": [],
   "source": [
    "m_ops_matrix, t_gone = q_voter(G_w,q=4,p=0.1,MC_step=1,time_horizon=1000)\n",
    "for _ in range(100):\n",
    "    m_ops, t_gone = q_voter(G_w,q=4,p=0.1,MC_step=1,time_horizon=1000)\n",
    "    m_ops_matrix = np.vstack([m_ops_matrix, m_ops])"
   ]
  },
  {
   "cell_type": "code",
   "execution_count": 95,
   "id": "75a16044",
   "metadata": {},
   "outputs": [
    {
     "data": {
      "text/plain": [
       "(101, 1001)"
      ]
     },
     "execution_count": 95,
     "metadata": {},
     "output_type": "execute_result"
    }
   ],
   "source": [
    "np.shape(m_ops_matrix)"
   ]
  },
  {
   "cell_type": "code",
   "execution_count": 91,
   "id": "dfdd47f6",
   "metadata": {},
   "outputs": [
    {
     "data": {
      "text/plain": [
       "array([ 0.08, -0.04, -0.16, -0.02, -0.04, -0.06,  0.06,  0.02, -0.08,\n",
       "        0.08,  0.24,  0.04, -0.04,  0.18,  0.04,  0.1 ,  0.04,  0.04,\n",
       "       -0.04, -0.04,  0.  ,  0.02, -0.04, -0.14,  0.04, -0.26,  0.06,\n",
       "       -0.02,  0.04, -0.1 ,  0.04,  0.04, -0.02,  0.  ,  0.14,  0.  ,\n",
       "        0.08, -0.02,  0.1 , -0.06,  0.06, -0.12,  0.  ,  0.02, -0.04,\n",
       "        0.1 , -0.08, -0.12,  0.04, -0.12, -0.08,  0.06,  0.16, -0.04,\n",
       "        0.1 ,  0.04,  0.02,  0.06, -0.06,  0.04,  0.1 , -0.04,  0.02,\n",
       "       -0.08, -0.08,  0.  ,  0.16, -0.08,  0.08, -0.14,  0.  ,  0.04,\n",
       "       -0.04,  0.12,  0.04,  0.14, -0.02, -0.14, -0.14, -0.18,  0.02,\n",
       "        0.  ,  0.  ,  0.06,  0.16,  0.16, -0.1 , -0.08, -0.1 ,  0.  ,\n",
       "        0.06, -0.06,  0.12, -0.14, -0.1 , -0.12,  0.02,  0.  , -0.04,\n",
       "        0.  , -0.08])"
      ]
     },
     "execution_count": 91,
     "metadata": {},
     "output_type": "execute_result"
    }
   ],
   "source": [
    "m_ops_matrix[:,0]"
   ]
  },
  {
   "cell_type": "code",
   "execution_count": 92,
   "id": "a7756c03",
   "metadata": {},
   "outputs": [
    {
     "data": {
      "text/plain": [
       "-0.0011881188118811894"
      ]
     },
     "execution_count": 92,
     "metadata": {},
     "output_type": "execute_result"
    }
   ],
   "source": [
    "np.mean(m_ops_matrix[:,0])"
   ]
  },
  {
   "cell_type": "code",
   "execution_count": 93,
   "id": "56f809e6",
   "metadata": {},
   "outputs": [],
   "source": [
    "val_m = [np.mean(m_ops_matrix[:,i]) for i in range(100)]"
   ]
  },
  {
   "cell_type": "code",
   "execution_count": 94,
   "id": "f9c58f75",
   "metadata": {},
   "outputs": [
    {
     "ename": "ValueError",
     "evalue": "x and y must have same first dimension, but have shapes (1001,) and (100,)",
     "output_type": "error",
     "traceback": [
      "\u001b[1;31m---------------------------------------------------------------------------\u001b[0m",
      "\u001b[1;31mValueError\u001b[0m                                Traceback (most recent call last)",
      "Input \u001b[1;32mIn [94]\u001b[0m, in \u001b[0;36m<cell line: 1>\u001b[1;34m()\u001b[0m\n\u001b[1;32m----> 1\u001b[0m \u001b[43mplt\u001b[49m\u001b[38;5;241;43m.\u001b[39;49m\u001b[43mplot\u001b[49m\u001b[43m(\u001b[49m\u001b[43mt_gone\u001b[49m\u001b[43m,\u001b[49m\u001b[43m \u001b[49m\u001b[43mval_m\u001b[49m\u001b[43m)\u001b[49m\n\u001b[0;32m      2\u001b[0m plt\u001b[38;5;241m.\u001b[39mtitle(\u001b[38;5;124m'\u001b[39m\u001b[38;5;124mWatts-Strogatz, mean magnetization of 100 runs\u001b[39m\u001b[38;5;124m'\u001b[39m)\n\u001b[0;32m      3\u001b[0m plt\u001b[38;5;241m.\u001b[39mgrid()\n",
      "File \u001b[1;32m~\\anaconda3\\lib\\site-packages\\matplotlib\\pyplot.py:2757\u001b[0m, in \u001b[0;36mplot\u001b[1;34m(scalex, scaley, data, *args, **kwargs)\u001b[0m\n\u001b[0;32m   2755\u001b[0m \u001b[38;5;129m@_copy_docstring_and_deprecators\u001b[39m(Axes\u001b[38;5;241m.\u001b[39mplot)\n\u001b[0;32m   2756\u001b[0m \u001b[38;5;28;01mdef\u001b[39;00m \u001b[38;5;21mplot\u001b[39m(\u001b[38;5;241m*\u001b[39margs, scalex\u001b[38;5;241m=\u001b[39m\u001b[38;5;28;01mTrue\u001b[39;00m, scaley\u001b[38;5;241m=\u001b[39m\u001b[38;5;28;01mTrue\u001b[39;00m, data\u001b[38;5;241m=\u001b[39m\u001b[38;5;28;01mNone\u001b[39;00m, \u001b[38;5;241m*\u001b[39m\u001b[38;5;241m*\u001b[39mkwargs):\n\u001b[1;32m-> 2757\u001b[0m     \u001b[38;5;28;01mreturn\u001b[39;00m gca()\u001b[38;5;241m.\u001b[39mplot(\n\u001b[0;32m   2758\u001b[0m         \u001b[38;5;241m*\u001b[39margs, scalex\u001b[38;5;241m=\u001b[39mscalex, scaley\u001b[38;5;241m=\u001b[39mscaley,\n\u001b[0;32m   2759\u001b[0m         \u001b[38;5;241m*\u001b[39m\u001b[38;5;241m*\u001b[39m({\u001b[38;5;124m\"\u001b[39m\u001b[38;5;124mdata\u001b[39m\u001b[38;5;124m\"\u001b[39m: data} \u001b[38;5;28;01mif\u001b[39;00m data \u001b[38;5;129;01mis\u001b[39;00m \u001b[38;5;129;01mnot\u001b[39;00m \u001b[38;5;28;01mNone\u001b[39;00m \u001b[38;5;28;01melse\u001b[39;00m {}), \u001b[38;5;241m*\u001b[39m\u001b[38;5;241m*\u001b[39mkwargs)\n",
      "File \u001b[1;32m~\\anaconda3\\lib\\site-packages\\matplotlib\\axes\\_axes.py:1632\u001b[0m, in \u001b[0;36mAxes.plot\u001b[1;34m(self, scalex, scaley, data, *args, **kwargs)\u001b[0m\n\u001b[0;32m   1390\u001b[0m \u001b[38;5;124;03m\"\"\"\u001b[39;00m\n\u001b[0;32m   1391\u001b[0m \u001b[38;5;124;03mPlot y versus x as lines and/or markers.\u001b[39;00m\n\u001b[0;32m   1392\u001b[0m \n\u001b[1;32m   (...)\u001b[0m\n\u001b[0;32m   1629\u001b[0m \u001b[38;5;124;03m(``'green'``) or hex strings (``'#008000'``).\u001b[39;00m\n\u001b[0;32m   1630\u001b[0m \u001b[38;5;124;03m\"\"\"\u001b[39;00m\n\u001b[0;32m   1631\u001b[0m kwargs \u001b[38;5;241m=\u001b[39m cbook\u001b[38;5;241m.\u001b[39mnormalize_kwargs(kwargs, mlines\u001b[38;5;241m.\u001b[39mLine2D)\n\u001b[1;32m-> 1632\u001b[0m lines \u001b[38;5;241m=\u001b[39m [\u001b[38;5;241m*\u001b[39m\u001b[38;5;28mself\u001b[39m\u001b[38;5;241m.\u001b[39m_get_lines(\u001b[38;5;241m*\u001b[39margs, data\u001b[38;5;241m=\u001b[39mdata, \u001b[38;5;241m*\u001b[39m\u001b[38;5;241m*\u001b[39mkwargs)]\n\u001b[0;32m   1633\u001b[0m \u001b[38;5;28;01mfor\u001b[39;00m line \u001b[38;5;129;01min\u001b[39;00m lines:\n\u001b[0;32m   1634\u001b[0m     \u001b[38;5;28mself\u001b[39m\u001b[38;5;241m.\u001b[39madd_line(line)\n",
      "File \u001b[1;32m~\\anaconda3\\lib\\site-packages\\matplotlib\\axes\\_base.py:312\u001b[0m, in \u001b[0;36m_process_plot_var_args.__call__\u001b[1;34m(self, data, *args, **kwargs)\u001b[0m\n\u001b[0;32m    310\u001b[0m     this \u001b[38;5;241m+\u001b[39m\u001b[38;5;241m=\u001b[39m args[\u001b[38;5;241m0\u001b[39m],\n\u001b[0;32m    311\u001b[0m     args \u001b[38;5;241m=\u001b[39m args[\u001b[38;5;241m1\u001b[39m:]\n\u001b[1;32m--> 312\u001b[0m \u001b[38;5;28;01myield from\u001b[39;00m \u001b[38;5;28;43mself\u001b[39;49m\u001b[38;5;241;43m.\u001b[39;49m\u001b[43m_plot_args\u001b[49m\u001b[43m(\u001b[49m\u001b[43mthis\u001b[49m\u001b[43m,\u001b[49m\u001b[43m \u001b[49m\u001b[43mkwargs\u001b[49m\u001b[43m)\u001b[49m\n",
      "File \u001b[1;32m~\\anaconda3\\lib\\site-packages\\matplotlib\\axes\\_base.py:498\u001b[0m, in \u001b[0;36m_process_plot_var_args._plot_args\u001b[1;34m(self, tup, kwargs, return_kwargs)\u001b[0m\n\u001b[0;32m    495\u001b[0m     \u001b[38;5;28mself\u001b[39m\u001b[38;5;241m.\u001b[39maxes\u001b[38;5;241m.\u001b[39myaxis\u001b[38;5;241m.\u001b[39mupdate_units(y)\n\u001b[0;32m    497\u001b[0m \u001b[38;5;28;01mif\u001b[39;00m x\u001b[38;5;241m.\u001b[39mshape[\u001b[38;5;241m0\u001b[39m] \u001b[38;5;241m!=\u001b[39m y\u001b[38;5;241m.\u001b[39mshape[\u001b[38;5;241m0\u001b[39m]:\n\u001b[1;32m--> 498\u001b[0m     \u001b[38;5;28;01mraise\u001b[39;00m \u001b[38;5;167;01mValueError\u001b[39;00m(\u001b[38;5;124mf\u001b[39m\u001b[38;5;124m\"\u001b[39m\u001b[38;5;124mx and y must have same first dimension, but \u001b[39m\u001b[38;5;124m\"\u001b[39m\n\u001b[0;32m    499\u001b[0m                      \u001b[38;5;124mf\u001b[39m\u001b[38;5;124m\"\u001b[39m\u001b[38;5;124mhave shapes \u001b[39m\u001b[38;5;132;01m{\u001b[39;00mx\u001b[38;5;241m.\u001b[39mshape\u001b[38;5;132;01m}\u001b[39;00m\u001b[38;5;124m and \u001b[39m\u001b[38;5;132;01m{\u001b[39;00my\u001b[38;5;241m.\u001b[39mshape\u001b[38;5;132;01m}\u001b[39;00m\u001b[38;5;124m\"\u001b[39m)\n\u001b[0;32m    500\u001b[0m \u001b[38;5;28;01mif\u001b[39;00m x\u001b[38;5;241m.\u001b[39mndim \u001b[38;5;241m>\u001b[39m \u001b[38;5;241m2\u001b[39m \u001b[38;5;129;01mor\u001b[39;00m y\u001b[38;5;241m.\u001b[39mndim \u001b[38;5;241m>\u001b[39m \u001b[38;5;241m2\u001b[39m:\n\u001b[0;32m    501\u001b[0m     \u001b[38;5;28;01mraise\u001b[39;00m \u001b[38;5;167;01mValueError\u001b[39;00m(\u001b[38;5;124mf\u001b[39m\u001b[38;5;124m\"\u001b[39m\u001b[38;5;124mx and y can be no greater than 2D, but have \u001b[39m\u001b[38;5;124m\"\u001b[39m\n\u001b[0;32m    502\u001b[0m                      \u001b[38;5;124mf\u001b[39m\u001b[38;5;124m\"\u001b[39m\u001b[38;5;124mshapes \u001b[39m\u001b[38;5;132;01m{\u001b[39;00mx\u001b[38;5;241m.\u001b[39mshape\u001b[38;5;132;01m}\u001b[39;00m\u001b[38;5;124m and \u001b[39m\u001b[38;5;132;01m{\u001b[39;00my\u001b[38;5;241m.\u001b[39mshape\u001b[38;5;132;01m}\u001b[39;00m\u001b[38;5;124m\"\u001b[39m)\n",
      "\u001b[1;31mValueError\u001b[0m: x and y must have same first dimension, but have shapes (1001,) and (100,)"
     ]
    },
    {
     "data": {
      "image/png": "[encoded data removed]",
      "text/plain": [
       "<Figure size 432x288 with 1 Axes>"
      ]
     },
     "metadata": {
      "needs_background": "light"
     },
     "output_type": "display_data"
    }
   ],
   "source": [
    "plt.plot(t_gone, val_m)\n",
    "plt.title('Watts-Strogatz, mean magnetization of 100 runs')\n",
    "plt.grid();"
   ]
  },
  {
   "cell_type": "markdown",
   "id": "49aa27b0",
   "metadata": {},
   "source": [
    "# 5th dot"
   ]
  },
  {
   "cell_type": "code",
   "execution_count": null,
   "id": "3f31c37e",
   "metadata": {},
   "outputs": [],
   "source": []
  }
 ],
 "metadata": {
  "kernelspec": {
   "display_name": "Python 3 (ipykernel)",
   "language": "python",
   "name": "python3"
  },
  "language_info": {
   "codemirror_mode": {
    "name": "ipython",
    "version": 3
   },
   "file_extension": ".py",
   "mimetype": "text/x-python",
   "name": "python",
   "nbconvert_exporter": "python",
   "pygments_lexer": "ipython3",
   "version": "3.9.12"
  }
 },
 "nbformat": 4,
 "nbformat_minor": 5
}
