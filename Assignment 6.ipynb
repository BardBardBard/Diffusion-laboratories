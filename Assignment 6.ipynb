{
 "cells": [
  {
   "cell_type": "code",
   "execution_count": null,
   "id": "546efde9",
   "metadata": {},
   "outputs": [],
   "source": [
    "#for selecting vecotr of 4 use \n",
    "#random.sample(data, k=4)!!!!!!!!!!!!!!!!!!!!!!!!!!!!!!!!!!!!!!!!!!!!!!!!!!!!!!!!!!!!!!!!!!"
   ]
  },
  {
   "cell_type": "code",
   "execution_count": 1,
   "id": "c1cd0949",
   "metadata": {},
   "outputs": [],
   "source": [
    "import numpy as np\n",
    "import networkx as nx\n",
    "import random\n",
    "import matplotlib.pyplot as plt\n",
    "import time\n",
    "from numpy.random import uniform"
   ]
  },
  {
   "cell_type": "code",
   "execution_count": 2,
   "id": "e75c856e",
   "metadata": {},
   "outputs": [],
   "source": [
    "#N is number of nodes, k is number of closest neighbours and p is probability that we change edge in single step\n",
    "def Watatz(N=20, k=4, p=1):\n",
    "    if(k%2==1):\n",
    "        raise ValueError (\"Need even number of closest neighbours!\")\n",
    "    \n",
    "    #creates starting graph//do not move\n",
    "    G = nx.Graph()\n",
    "    G.add_nodes_from([i for i in range(N)])\n",
    "    for i in G.nodes:\n",
    "        for ki in range(int(k/2)):\n",
    "            G.add_edges_from([((i+N-1-ki)%N,i), ((i+N+1+ki)%N,i)]) #calculations so N-1 is connected with 0\n",
    "    \n",
    "    #changes link for each\n",
    "    new_G = nx.Graph()\n",
    "    new_G.add_nodes_from(list(G.nodes))\n",
    "    iterator = 0\n",
    "\n",
    "    for link in G.edges:\n",
    "        #relinking\n",
    "        if(random.random()<p): #if we succeed in relinking\n",
    "            new_link = link #for now it is as before\n",
    "            if(random.random()<0.5): #whether relink node 1 or 2 from edge\n",
    "                #we do not want link that already was in network, not that we have in currently created one\n",
    "                while(new_link in list(G.edges)[iterator:] or new_link in new_G.edges):\n",
    "                    for_choice = list(G.nodes)\n",
    "                    for_choice.remove(new_link[0])\n",
    "                    relink = random.choice(for_choice)\n",
    "                    new_link = (new_link[0], relink)\n",
    "                new_G.add_edge(new_link[0], new_link[1])\n",
    "            else: #same procedure, but we change second end of edge\n",
    "                while(new_link in list(G.edges)[iterator:] or new_link in new_G.edges):\n",
    "                    for_choice = list(G.nodes)\n",
    "                    for_choice.remove(new_link[1])\n",
    "                    relink = random.choice(for_choice)\n",
    "                    new_link = (relink, new_link[1])\n",
    "                new_G.add_edge(new_link[0], new_link[1])\n",
    "        else: #we simply add link that existed in starting network\n",
    "            new_G.add_edge(link[0], link[1])\n",
    "        iterator = iterator+1\n",
    "        \n",
    "    #new_G.add_nodes_from(list(G.nodes)) #in case some node got totally unconnected\n",
    "    \n",
    "    return new_G\n",
    "\n",
    "''' we start with m0 nodes and in each step we add node connected to m<m0 previous nodes until we reach N nodes\n",
    "    after t steps we should have N=m0+t nodes and E=m0+mt edges\n",
    "'''\n",
    "def Barabasi(m0, m, t):\n",
    "    '''creating, start from 1 to be similar with previous ones\n",
    "        we want to start with m0 nodes, m0 edges and each link connected,\n",
    "        so I just start with triangle, then add new linked nodes'''\n",
    "    \n",
    "    G = nx.Graph()\n",
    "    G.add_edges_from([(0,1), (0,2), (1,2)])\n",
    "    for i in range(2,m0): \n",
    "        G.add_edge(i, random.choice(list(G.nodes)))\n",
    "        \n",
    "    #now we add new nodes, choose m distinct edges coming from new node\n",
    "    for tau in range(t):\n",
    "        pi = [nx.degree(G, nody)/(sum([nx.degree(G, n) for n in G.nodes])) for nody in G.nodes] #probability for each node\n",
    "        choice_list =  np.random.choice(list(G.nodes), m, p=pi, replace=False) #choose randomly with no repetinions\n",
    "        \n",
    "        for link in choice_list:\n",
    "            G.add_edge(link, tau+m0)\n",
    "         #in case we do not link it to any node\n",
    "      \n",
    "    return G"
   ]
  },
  {
   "cell_type": "markdown",
   "id": "19f7008a",
   "metadata": {},
   "source": [
    "## q-voter"
   ]
  },
  {
   "cell_type": "code",
   "execution_count": 3,
   "id": "023b6545",
   "metadata": {},
   "outputs": [],
   "source": [
    "#for 3 dot only save results, plots are for 4th and 5th\n",
    "#for 4th dot choose some values of p, between 0.1 and 0.6, 5 values of p\n",
    "#all starts with the same opinion"
   ]
  },
  {
   "cell_type": "code",
   "execution_count": 4,
   "id": "e01a93f6",
   "metadata": {},
   "outputs": [],
   "source": [
    "G_b = nx.barabasi_albert_graph(100, 4)"
   ]
  },
  {
   "cell_type": "code",
   "execution_count": 5,
   "id": "027de5a3",
   "metadata": {},
   "outputs": [],
   "source": [
    "G_test = nx.barabasi_albert_graph(30, 4)"
   ]
  },
  {
   "cell_type": "markdown",
   "id": "e02f3951",
   "metadata": {},
   "source": [
    "If we have less than q neigbours, just skip it"
   ]
  },
  {
   "cell_type": "code",
   "execution_count": 96,
   "id": "ace1dd58",
   "metadata": {},
   "outputs": [],
   "source": [
    "#change it into asynchronous model\n",
    "def q_voter(G, q=4, p=0.5, MC_step = 10, time_horizon=10):\n",
    "    nodes = list(G.nodes())\n",
    "    G_size = len(nodes)\n",
    "    #opinion_array = 2*np.random.randint(0,2,G_size)-1 #creates array full of either 1 or -1\n",
    "    opinion_array = np.ones(G_size)\n",
    "    current_time = 0\n",
    "    mean_opinion = [np.mean(opinion_array)]\n",
    "    time_gone = [current_time]\n",
    "    while(current_time < time_horizon):\n",
    "        for _ in range(MC_step):\n",
    "            current_node = np.random.choice(nodes)\n",
    "            if(random.random()>p): \n",
    "                try:\n",
    "                    list_of_neighbours = np.random.choice(list(G.neighbors(current_node)),size=q)\n",
    "                except: #not enough neigbours to force change of our decision\n",
    "                    pass\n",
    "                if(abs(np.mean(opinion_array[list_of_neighbours])==1)): #either all are -1 or 1 \n",
    "                    opinion_array[current_node] = opinion_array[list_of_neighbours[0]] #all have the same state\n",
    "                    \n",
    "                #elif(random.random()<eps):\n",
    "                #    print(\"niezgodni\")\n",
    "                #    opinion_array[current_node]*=-1\n",
    "\n",
    "            else:\n",
    "                opinion_array[current_node] =np.random.choice([-1,1]) #either changes or not their opinion\n",
    "        current_time+=1\n",
    "        mean_opinion.append(np.mean(opinion_array))\n",
    "        time_gone.append(current_time)\n",
    "    return mean_opinion, time_gone"
   ]
  },
  {
   "cell_type": "code",
   "execution_count": 72,
   "id": "872186e9",
   "metadata": {},
   "outputs": [
    {
     "data": {
      "text/plain": [
       "([1.0, 0.92, 0.86, 0.8, 0.8, 0.76, 0.72, 0.72, 0.68, 0.62, 0.58],\n",
       " [0, 1, 2, 3, 4, 5, 6, 7, 8, 9, 10])"
      ]
     },
     "execution_count": 72,
     "metadata": {},
     "output_type": "execute_result"
    }
   ],
   "source": [
    "q_voter(G_b,4,0.5,10,10)"
   ]
  },
  {
   "cell_type": "code",
   "execution_count": 8,
   "id": "150a7f1c",
   "metadata": {},
   "outputs": [
    {
     "data": {
      "text/plain": [
       "([0.1, 0.06, 0.08, 0.02, 0.02, 0.08, 0.1, 0.1, 0.08, 0.08, 0.18],\n",
       " [0, 1, 2, 3, 4, 5, 6, 7, 8, 9, 10])"
      ]
     },
     "execution_count": 8,
     "metadata": {},
     "output_type": "execute_result"
    }
   ],
   "source": [
    "q_voter(Barabasi(4,4,96),4,0.5,10,10)"
   ]
  },
  {
   "cell_type": "markdown",
   "id": "bbfeee8c",
   "metadata": {},
   "source": [
    "# 1st dot"
   ]
  },
  {
   "cell_type": "markdown",
   "id": "db972e40",
   "metadata": {},
   "source": [
    "# 2nd dot"
   ]
  },
  {
   "cell_type": "code",
   "execution_count": 130,
   "id": "f7277100",
   "metadata": {},
   "outputs": [],
   "source": [
    "# here is implemented change, that each monte carlo step consists of G_size chagnes\n",
    "def q_voter_dot_2(G, q=4, p=0.5, MC_step = 10):\n",
    "    nodes = list(G.nodes())\n",
    "    G_size = len(nodes)\n",
    "    #opinion_array = 2*np.random.randint(0,2,G_size)-1 #creates array full of either 1 or -1\n",
    "    opinion_array = np.ones(G_size)\n",
    "    opinions = []\n",
    "    for _ in range(MC_step):\n",
    "        for _ in range(G_size):\n",
    "            current_node = np.random.choice(nodes)\n",
    "            if(random.random()>p): \n",
    "                try:\n",
    "                    list_of_neighbours = np.random.choice(list(G.neighbors(current_node)),size=q)\n",
    "                except: #not enough neigbours to force change of our decision\n",
    "                    pass\n",
    "                if(abs(np.mean(opinion_array[list_of_neighbours])==1)): #either all are -1 or 1 \n",
    "                    opinion_array[current_node] = opinion_array[list_of_neighbours[0]] #all have the same state\n",
    "\n",
    "                    #elif(random.random()<eps):\n",
    "                    #    print(\"niezgodni\")\n",
    "                    #    opinion_array[current_node]*=-1\n",
    "\n",
    "            else:\n",
    "                opinion_array[current_node] =np.random.choice([-1,1]) #either changes or not their opinion\n",
    "        #opinions.append(np.mean(opinion_array))\n",
    "    return np.mean(opinion_array)"
   ]
  },
  {
   "cell_type": "code",
   "execution_count": 112,
   "id": "ddab09bb",
   "metadata": {},
   "outputs": [
    {
     "name": "stdout",
     "output_type": "stream",
     "text": [
      "4\n"
     ]
    }
   ],
   "source": [
    "for i in range(5):\n",
    "    if(i==4):\n",
    "        print(i)\n",
    "    else:\n",
    "        pass"
   ]
  },
  {
   "cell_type": "code",
   "execution_count": 123,
   "id": "d0cf26e3",
   "metadata": {},
   "outputs": [
    {
     "data": {
      "text/plain": [
       "0.24276"
      ]
     },
     "execution_count": 123,
     "metadata": {},
     "output_type": "execute_result"
    }
   ],
   "source": [
    "q_voter_dot_2(G_w, q=3, p=p_one, MC_step=1000)"
   ]
  },
  {
   "cell_type": "code",
   "execution_count": 131,
   "id": "f2ccbc84",
   "metadata": {},
   "outputs": [],
   "source": [
    "ps = np.arange(0.0, 0.5, 0.02)#\n",
    "ps_gw = []\n",
    "for p_one in ps:\n",
    "    ps_gw.append(q_voter_dot_2(G_w, q=3, p=p_one, MC_step=100))"
   ]
  },
  {
   "cell_type": "code",
   "execution_count": 132,
   "id": "13d969ca",
   "metadata": {},
   "outputs": [
    {
     "data": {
      "text/plain": [
       "<matplotlib.collections.PathCollection at 0x1afc5d18700>"
      ]
     },
     "execution_count": 132,
     "metadata": {},
     "output_type": "execute_result"
    },
    {
     "data": {
      "image/png": "[encoded data removed]",
      "text/plain": [
       "<Figure size 432x288 with 1 Axes>"
      ]
     },
     "metadata": {
      "needs_background": "light"
     },
     "output_type": "display_data"
    }
   ],
   "source": [
    "plt.scatter(ps, ps_gw)"
   ]
  },
  {
   "cell_type": "markdown",
   "id": "1c7b594c",
   "metadata": {},
   "source": [
    "# 3rd dot"
   ]
  },
  {
   "cell_type": "code",
   "execution_count": 137,
   "id": "35544a85",
   "metadata": {},
   "outputs": [],
   "source": [
    "# here is implemented change, that each monte carlo step consists of G_size chagnes\n",
    "def q_voter_dot_3(G, q=4, p=0.5, MC_step = 10):\n",
    "    nodes = list(G.nodes())\n",
    "    G_size = len(nodes)\n",
    "    #opinion_array = 2*np.random.randint(0,2,G_size)-1 #creates array full of either 1 or -1\n",
    "    opinion_array = np.ones(G_size)\n",
    "    opinions = []\n",
    "    for _ in range(MC_step):\n",
    "        for _ in range(G_size):\n",
    "            current_node = np.random.choice(nodes)\n",
    "            if(random.random()>p): \n",
    "                try:\n",
    "                    list_of_neighbours = np.random.choice(list(G.neighbors(current_node)),size=q)\n",
    "                except: #not enough neigbours to force change of our decision\n",
    "                    pass\n",
    "                if(abs(np.mean(opinion_array[list_of_neighbours])==1)): #either all are -1 or 1 \n",
    "                    opinion_array[current_node] = opinion_array[list_of_neighbours[0]] #all have the same state\n",
    "\n",
    "                    #elif(random.random()<eps):\n",
    "                    #    print(\"niezgodni\")\n",
    "                    #    opinion_array[current_node]*=-1\n",
    "\n",
    "            else:\n",
    "                opinion_array[current_node] =np.random.choice([-1,1]) #either changes or not their opinion\n",
    "        opinions.append(np.mean(opinion_array))\n",
    "    return opinion_array"
   ]
  },
  {
   "cell_type": "code",
   "execution_count": 138,
   "id": "9d96cb48",
   "metadata": {},
   "outputs": [],
   "source": [
    "#m_ops_matrix, t_gone = q_voter_dot_3(G_w,q=4,p=0.1,MC_step=1,time_horizon=1000)\n",
    "#for _ in range(100-1):\n",
    "#    m_ops, t_gone = q_voter_dot_3(G_w,q=4,p=0.1,MC_step=1,time_horizon=1000)\n",
    "#    m_ops_matrix = np.vstack([m_ops_matrix, m_ops])"
   ]
  },
  {
   "cell_type": "code",
   "execution_count": 139,
   "id": "465fa459",
   "metadata": {},
   "outputs": [],
   "source": [
    "p3 = 0.25\n"
   ]
  },
  {
   "cell_type": "code",
   "execution_count": null,
   "id": "56e8cf31",
   "metadata": {},
   "outputs": [],
   "source": [
    "m_ops_matrix = q_voter_dot_3(G_w, q=4, p=p3, MC_step=100)\n",
    "for _ in range(100-1):\n",
    "    m_ops = q_voter_dot_3(G_w, q=4, p=p3, MC_step=100)\n",
    "    m_ops_matrix = np.vstack([m_ops_matrix, m_ops])"
   ]
  },
  {
   "cell_type": "code",
   "execution_count": null,
   "id": "b4eb44ac",
   "metadata": {},
   "outputs": [],
   "source": [
    "val_m = [np.mean(m_ops_matrix[:,i]) for i in range(np.shape(m_ops_matrix)[1])]"
   ]
  },
  {
   "cell_type": "code",
   "execution_count": null,
   "id": "cb212353",
   "metadata": {},
   "outputs": [],
   "source": [
    "plt.plot(range(1000), val_m)\n",
    "plt.title('Watts-Strogatz, mean magnetization of 100 runs')\n",
    "plt.grid();"
   ]
  },
  {
   "cell_type": "code",
   "execution_count": null,
   "id": "3b09055e",
   "metadata": {},
   "outputs": [],
   "source": []
  },
  {
   "cell_type": "code",
   "execution_count": null,
   "id": "74846377",
   "metadata": {},
   "outputs": [],
   "source": []
  },
  {
   "cell_type": "markdown",
   "id": "fdeb9912",
   "metadata": {},
   "source": [
    "# 4th dot"
   ]
  },
  {
   "cell_type": "code",
   "execution_count": 97,
   "id": "c6717c36",
   "metadata": {},
   "outputs": [],
   "source": [
    "G_w = nx.watts_strogatz_graph(100, 4, 0.01)"
   ]
  },
  {
   "cell_type": "code",
   "execution_count": 98,
   "id": "e70a11e0",
   "metadata": {},
   "outputs": [],
   "source": [
    "m_ops, t_gone = q_voter(G_w,q=4,p=0.1,MC_step=1,time_horizon=100)\n",
    "m_ops2, t_gone2 = q_voter(G_w,q=4,p=0.1,MC_step=1,time_horizon=100)"
   ]
  },
  {
   "cell_type": "code",
   "execution_count": 99,
   "id": "61ff485d",
   "metadata": {},
   "outputs": [
    {
     "data": {
      "image/png": "[encoded data removed]",
      "text/plain": [
       "<Figure size 432x288 with 1 Axes>"
      ]
     },
     "metadata": {
      "needs_background": "light"
     },
     "output_type": "display_data"
    }
   ],
   "source": [
    "plt.plot(t_gone, m_ops)\n",
    "plt.title('Watts-Strogatz, magnetization in single run')\n",
    "plt.grid();"
   ]
  },
  {
   "cell_type": "code",
   "execution_count": 100,
   "id": "7d76dd90",
   "metadata": {},
   "outputs": [
    {
     "data": {
      "text/plain": [
       "array([[  0,   1,   2,   3,   4,   5,   6,   7,   8,   9,  10,  11,  12,\n",
       "         13,  14,  15,  16,  17,  18,  19,  20,  21,  22,  23,  24,  25,\n",
       "         26,  27,  28,  29,  30,  31,  32,  33,  34,  35,  36,  37,  38,\n",
       "         39,  40,  41,  42,  43,  44,  45,  46,  47,  48,  49,  50,  51,\n",
       "         52,  53,  54,  55,  56,  57,  58,  59,  60,  61,  62,  63,  64,\n",
       "         65,  66,  67,  68,  69,  70,  71,  72,  73,  74,  75,  76,  77,\n",
       "         78,  79,  80,  81,  82,  83,  84,  85,  86,  87,  88,  89,  90,\n",
       "         91,  92,  93,  94,  95,  96,  97,  98,  99, 100],\n",
       "       [  0,   1,   2,   3,   4,   5,   6,   7,   8,   9,  10,  11,  12,\n",
       "         13,  14,  15,  16,  17,  18,  19,  20,  21,  22,  23,  24,  25,\n",
       "         26,  27,  28,  29,  30,  31,  32,  33,  34,  35,  36,  37,  38,\n",
       "         39,  40,  41,  42,  43,  44,  45,  46,  47,  48,  49,  50,  51,\n",
       "         52,  53,  54,  55,  56,  57,  58,  59,  60,  61,  62,  63,  64,\n",
       "         65,  66,  67,  68,  69,  70,  71,  72,  73,  74,  75,  76,  77,\n",
       "         78,  79,  80,  81,  82,  83,  84,  85,  86,  87,  88,  89,  90,\n",
       "         91,  92,  93,  94,  95,  96,  97,  98,  99, 100]])"
      ]
     },
     "execution_count": 100,
     "metadata": {},
     "output_type": "execute_result"
    }
   ],
   "source": [
    "np.vstack([t_gone, t_gone2])"
   ]
  },
  {
   "cell_type": "code",
   "execution_count": 101,
   "id": "2254794e",
   "metadata": {},
   "outputs": [],
   "source": [
    "m_ops_matrix, t_gone = q_voter(G_w,q=4,p=0.1,MC_step=1,time_horizon=1000)\n",
    "for _ in range(100-1):\n",
    "    m_ops, t_gone = q_voter(G_w,q=4,p=0.1,MC_step=1,time_horizon=1000)\n",
    "    m_ops_matrix = np.vstack([m_ops_matrix, m_ops])"
   ]
  },
  {
   "cell_type": "code",
   "execution_count": 102,
   "id": "75a16044",
   "metadata": {},
   "outputs": [
    {
     "data": {
      "text/plain": [
       "1001"
      ]
     },
     "execution_count": 102,
     "metadata": {},
     "output_type": "execute_result"
    }
   ],
   "source": [
    "np.shape(m_ops_matrix)[1]"
   ]
  },
  {
   "cell_type": "code",
   "execution_count": 103,
   "id": "dfdd47f6",
   "metadata": {},
   "outputs": [
    {
     "data": {
      "text/plain": [
       "array([1., 1., 1., 1., 1., 1., 1., 1., 1., 1., 1., 1., 1., 1., 1., 1., 1.,\n",
       "       1., 1., 1., 1., 1., 1., 1., 1., 1., 1., 1., 1., 1., 1., 1., 1., 1.,\n",
       "       1., 1., 1., 1., 1., 1., 1., 1., 1., 1., 1., 1., 1., 1., 1., 1., 1.,\n",
       "       1., 1., 1., 1., 1., 1., 1., 1., 1., 1., 1., 1., 1., 1., 1., 1., 1.,\n",
       "       1., 1., 1., 1., 1., 1., 1., 1., 1., 1., 1., 1., 1., 1., 1., 1., 1.,\n",
       "       1., 1., 1., 1., 1., 1., 1., 1., 1., 1., 1., 1., 1., 1., 1.])"
      ]
     },
     "execution_count": 103,
     "metadata": {},
     "output_type": "execute_result"
    }
   ],
   "source": [
    "m_ops_matrix[:,0]"
   ]
  },
  {
   "cell_type": "code",
   "execution_count": 104,
   "id": "c05d1a69",
   "metadata": {},
   "outputs": [
    {
     "data": {
      "text/plain": [
       "100"
      ]
     },
     "execution_count": 104,
     "metadata": {},
     "output_type": "execute_result"
    }
   ],
   "source": [
    "len(m_ops_matrix[:,0])"
   ]
  },
  {
   "cell_type": "code",
   "execution_count": 105,
   "id": "a88cd250",
   "metadata": {},
   "outputs": [
    {
     "data": {
      "text/plain": [
       "1001"
      ]
     },
     "execution_count": 105,
     "metadata": {},
     "output_type": "execute_result"
    }
   ],
   "source": [
    "len(val_m)"
   ]
  },
  {
   "cell_type": "code",
   "execution_count": 106,
   "id": "a7756c03",
   "metadata": {},
   "outputs": [
    {
     "data": {
      "text/plain": [
       "0.8452947052947054"
      ]
     },
     "execution_count": 106,
     "metadata": {},
     "output_type": "execute_result"
    }
   ],
   "source": [
    "np.mean(m_ops_matrix[0,:])"
   ]
  },
  {
   "cell_type": "code",
   "execution_count": 107,
   "id": "56f809e6",
   "metadata": {},
   "outputs": [],
   "source": [
    "val_m = [np.mean(m_ops_matrix[:,i]) for i in range(np.shape(m_ops_matrix)[1])]"
   ]
  },
  {
   "cell_type": "code",
   "execution_count": 108,
   "id": "f9c58f75",
   "metadata": {},
   "outputs": [
    {
     "data": {
      "image/png": "[encoded data removed]",
      "text/plain": [
       "<Figure size 432x288 with 1 Axes>"
      ]
     },
     "metadata": {
      "needs_background": "light"
     },
     "output_type": "display_data"
    }
   ],
   "source": [
    "plt.plot(t_gone, val_m)\n",
    "plt.title('Watts-Strogatz, mean magnetization of 100 runs')\n",
    "plt.grid();"
   ]
  },
  {
   "cell_type": "markdown",
   "id": "49aa27b0",
   "metadata": {},
   "source": [
    "# 5th dot"
   ]
  },
  {
   "cell_type": "code",
   "execution_count": 55,
   "id": "3f31c37e",
   "metadata": {},
   "outputs": [
    {
     "data": {
      "text/plain": [
       "12"
      ]
     },
     "execution_count": 55,
     "metadata": {},
     "output_type": "execute_result"
    }
   ],
   "source": [
    "from multiprocessing import Pool, cpu_count\n",
    "\n",
    "cpu_count()"
   ]
  },
  {
   "cell_type": "code",
   "execution_count": null,
   "id": "4a5da484",
   "metadata": {},
   "outputs": [],
   "source": []
  }
 ],
 "metadata": {
  "kernelspec": {
   "display_name": "Python 3 (ipykernel)",
   "language": "python",
   "name": "python3"
  },
  "language_info": {
   "codemirror_mode": {
    "name": "ipython",
    "version": 3
   },
   "file_extension": ".py",
   "mimetype": "text/x-python",
   "name": "python",
   "nbconvert_exporter": "python",
   "pygments_lexer": "ipython3",
   "version": "3.9.12"
  }
 },
 "nbformat": 4,
 "nbformat_minor": 5
}
