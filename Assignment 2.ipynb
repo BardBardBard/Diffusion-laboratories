{
 "cells": [
  {
   "cell_type": "code",
   "execution_count": 19,
   "id": "70402293",
   "metadata": {},
   "outputs": [],
   "source": [
    "import numpy as np"
   ]
  },
  {
   "cell_type": "markdown",
   "id": "06a3bcf7",
   "metadata": {},
   "source": [
    "# Assignment 2"
   ]
  },
  {
   "cell_type": "code",
   "execution_count": 111,
   "id": "612cc3d9",
   "metadata": {},
   "outputs": [],
   "source": [
    "'''Creating class graph'''\n",
    "class Graph:\n",
    "    def __init__(self):\n",
    "        self.vertices = []\n",
    "        self.edges = []\n",
    "    \n",
    "    '''adds a vertex to the graph'''\n",
    "    def addVertex(self, vert:str):\n",
    "        self.vertices.append(vert)\n",
    "        \n",
    "    '''adds a list of vertices to the graph.\n",
    "        If vertex is already in network it will not be added'''\n",
    "    def addVerticesFromList(self, vertList:list):\n",
    "        for vert in vertList:\n",
    "            if not vert in self:\n",
    "                self.addVertex(vert)\n",
    "            else:\n",
    "                print(vert+\" already in network\")\n",
    "        #self.vertices.extend(vertList)\n",
    "    \n",
    "    ''' adds a new, weighted, undirected edge to the graph that connects two vertices.\n",
    "            If not in the graph, the vertices should be added automatically'''\n",
    "    def addEdge(self, fromVert:str, toVert:str, weight:float=1):\n",
    "        if not([fromVert, toVert, weight] in self.edges):\n",
    "            self.edges.append([fromVert, toVert, weight])\n",
    "            if not(fromVert in self.getVertices()):\n",
    "                self.addVertex(fromVert)\n",
    "            if not(toVert in self.getVertices()):\n",
    "                self.addVertex(toVert)\n",
    "    \n",
    "    '''add edges from given list.\n",
    "        Adds 1, so if there is no weight we have weight 1 and if there is already weight we do not look at that 1'''\n",
    "    def addEdgesFromList(self, edgeList:list):\n",
    "        for edge in edgeList:\n",
    "            edge.append(1)\n",
    "            if not(edge[0:3] in self.edges):\n",
    "                self.addEdge(edge[0], edge[1], edge[2]) \n",
    "                    \n",
    "            \n",
    "    '''returns the list of all vertices in the graph '''\n",
    "    def getVertices(self):\n",
    "        return (self.vertices)\n",
    "    \n",
    "    '''returns the list of all edges in the graph'''\n",
    "    def getEdges(self):\n",
    "        return (self.edges)\n",
    "    \n",
    "    '''returns the list of all neighbors of the vertex labeled vertKey.\n",
    "        At first we check if vertex is in our network, to avoid pointless work'''\n",
    "    def getNeighbors(self, vertKey:str):\n",
    "        if(vertKey in self): \n",
    "            listOfNeighbors = []\n",
    "            for singleton in self.edges:\n",
    "                if(vertKey in singleton):\n",
    "                    #if VertKey is at index 1, then neighbour is at 0, else it is at index |-1|\n",
    "                    listOfNeighbors.append(singleton[abs(singleton.index(vertKey)-1)]) \n",
    "                #if(singleton[0]==vertKey):\n",
    "                #    listOfNeighbors.append(singleton[1])\n",
    "                #elif(singleton[1]==vertKey):\n",
    "                #    listOfNeighbors.append(singleton[0])\n",
    "            return listOfNeighbors\n",
    "        print(vertKey+\" not in network\")\n",
    "        \n",
    "    '''returns True for a statement of the form vertex in graph, if the given vertex is in the graph, False otherwise'''\n",
    "    def __contains__(self, other:str):\n",
    "        if(other in self.getVertices()):\n",
    "            return True\n",
    "        return False\n",
    "    \n",
    "    '''writes dot representation of the graph to a text file'''\n",
    "    def saveGraph(self):\n",
    "    \n",
    "        with open('forWebgraphivz.txt', 'w') as f:\n",
    "            f.write(\"Graph \"+\" {\")\n",
    "            f.write('\\n')\n",
    "            for edge in self.edges:\n",
    "                f.write(edge[0]+\" -- \"+edge[1])\n",
    "                f.write('\\n')\n",
    "            f.write(\"}\")\n",
    "            f.write('\\n')\n",
    "            \n",
    "    \n",
    "    '''calculates shortest paths in the graph from the given vertex to all other vertices'''\n",
    "    def getShortestPaths(self, fromVert:str):\n",
    "        #creates adjacency matrix, then goes ^n until connection is no longer possible \\\\\\\\shortest path is found\n",
    "        \n",
    "        listVert = self.getVertices() #we obtain list of vertices\n",
    "        ad_matrix = np.zeros((len(listVert), len(listVert))) #create matrix of zeros\n",
    "        for edge in self.getEdges(): #if j and k art connected, then a_j,k equals 1\n",
    "            ad_matrix[listVert.index(edge[0]), listVert.index(edge[1])] = 1\n",
    "            ad_matrix[listVert.index(edge[1]), listVert.index(edge[0])] = 1\n",
    "        \n",
    "        paths = [len(listVert) for i in listVert] #list with value always longer that shortest path in order to take min\n",
    "        step_number = 1 #adjacency matrix start with power 1\n",
    "        new_matrix = ad_matrix #another matrix to store powered matrix\n",
    "        question = listVert.index(fromVert) #index of said vertex\n",
    "        \n",
    "        #now we search through question-th column to check if there is path of length equal to step_number between vertices\n",
    "        while(step_number<len(listVert)):\n",
    "            for j in range(len(paths)):    \n",
    "                if(new_matrix[j,question]>0): #if there is at least 1 path of such length\n",
    "                        paths[j]=min(paths[j], step_number) #only shortest path\n",
    "            new_matrix = np.matmul(new_matrix, ad_matrix)\n",
    "            step_number = step_number+1\n",
    "            \n",
    "        #there is just formality, to tell that vertex dont connect to itself or can't connect with others\n",
    "        paths[question]='our vertex index'\n",
    "        for element in range(len(paths)):\n",
    "            if(paths[element]==len(listVert)):\n",
    "                paths[element]=listVert[element]+\": \"+'no connection'\n",
    "            else:\n",
    "                paths[element] = listVert[element]+\": \"+str(paths[element])\n",
    "        return paths\n",
    "    \n",
    "    "
   ]
  },
  {
   "cell_type": "markdown",
   "id": "abbcb1f5",
   "metadata": {},
   "source": [
    "## Task 2"
   ]
  },
  {
   "cell_type": "code",
   "execution_count": 112,
   "id": "3aff759e",
   "metadata": {},
   "outputs": [],
   "source": [
    "as1Graph = Graph()"
   ]
  },
  {
   "cell_type": "code",
   "execution_count": 113,
   "id": "3ce8af7d",
   "metadata": {},
   "outputs": [],
   "source": [
    "as1List = [[\"Alice\", \"Bob\"], [\"Carl\", \"Alice\"], [\"Alice\", \"David\"], [\"Alice\", \"Ernst\"], [\"Alice\", \"Frank\"],\n",
    "          [\"Bob\", \"Gail\"], [\"Gail\", \"Harry\"], [\"Harry\", \"Jen\"], [\"Jen\", \"Gail\"], [\"Harry\", \"Irene\"],\n",
    "          [\"Irene\", \"Gail\"], [\"Irene\", \"Jen\"], [\"Ernst\", \"Frank\"], [\"David\", \"Carl\"], [\"Carl\", \"Frank\"]]"
   ]
  },
  {
   "cell_type": "code",
   "execution_count": 114,
   "id": "9027bae8",
   "metadata": {},
   "outputs": [],
   "source": [
    "as1Graph.addEdgesFromList(as1List)"
   ]
  },
  {
   "cell_type": "code",
   "execution_count": 115,
   "id": "e0f2ed0c",
   "metadata": {},
   "outputs": [
    {
     "data": {
      "text/plain": [
       "['Alice',\n",
       " 'Bob',\n",
       " 'Carl',\n",
       " 'David',\n",
       " 'Ernst',\n",
       " 'Frank',\n",
       " 'Gail',\n",
       " 'Harry',\n",
       " 'Jen',\n",
       " 'Irene']"
      ]
     },
     "execution_count": 115,
     "metadata": {},
     "output_type": "execute_result"
    }
   ],
   "source": [
    "as1Graph.getVertices()"
   ]
  },
  {
   "cell_type": "code",
   "execution_count": 116,
   "id": "de7cd4a2",
   "metadata": {},
   "outputs": [
    {
     "data": {
      "text/plain": [
       "[['Alice', 'Bob', 1],\n",
       " ['Carl', 'Alice', 1],\n",
       " ['Alice', 'David', 1],\n",
       " ['Alice', 'Ernst', 1],\n",
       " ['Alice', 'Frank', 1],\n",
       " ['Bob', 'Gail', 1],\n",
       " ['Gail', 'Harry', 1],\n",
       " ['Harry', 'Jen', 1],\n",
       " ['Jen', 'Gail', 1],\n",
       " ['Harry', 'Irene', 1],\n",
       " ['Irene', 'Gail', 1],\n",
       " ['Irene', 'Jen', 1],\n",
       " ['Ernst', 'Frank', 1],\n",
       " ['David', 'Carl', 1],\n",
       " ['Carl', 'Frank', 1]]"
      ]
     },
     "execution_count": 116,
     "metadata": {},
     "output_type": "execute_result"
    }
   ],
   "source": [
    "as1Graph.getEdges()"
   ]
  },
  {
   "cell_type": "code",
   "execution_count": 117,
   "id": "195acc4d",
   "metadata": {},
   "outputs": [
    {
     "data": {
      "text/plain": [
       "['Alice: 1',\n",
       " 'Bob: our vertex index',\n",
       " 'Carl: 2',\n",
       " 'David: 2',\n",
       " 'Ernst: 2',\n",
       " 'Frank: 2',\n",
       " 'Gail: 1',\n",
       " 'Harry: 2',\n",
       " 'Jen: 2',\n",
       " 'Irene: 2']"
      ]
     },
     "execution_count": 117,
     "metadata": {},
     "output_type": "execute_result"
    }
   ],
   "source": [
    "as1Graph.getShortestPaths(\"Bob\")"
   ]
  },
  {
   "cell_type": "code",
   "execution_count": 118,
   "id": "96c8462c",
   "metadata": {},
   "outputs": [],
   "source": [
    "as1Graph.saveGraph()"
   ]
  },
  {
   "cell_type": "markdown",
   "id": "bdda0e6c",
   "metadata": {},
   "source": [
    "## Checking if other functions work"
   ]
  },
  {
   "cell_type": "code",
   "execution_count": 119,
   "id": "3d25096f",
   "metadata": {},
   "outputs": [],
   "source": [
    "as1Graph.addVertex(\"Piotr\")"
   ]
  },
  {
   "cell_type": "code",
   "execution_count": 120,
   "id": "d312610b",
   "metadata": {},
   "outputs": [
    {
     "name": "stdout",
     "output_type": "stream",
     "text": [
      "Piotr already in network\n"
     ]
    }
   ],
   "source": [
    "as1Graph.addVerticesFromList([\"Piotr\", \"Marek\"])"
   ]
  },
  {
   "cell_type": "code",
   "execution_count": 121,
   "id": "d3817331",
   "metadata": {},
   "outputs": [
    {
     "data": {
      "text/plain": [
       "['Alice',\n",
       " 'Bob',\n",
       " 'Carl',\n",
       " 'David',\n",
       " 'Ernst',\n",
       " 'Frank',\n",
       " 'Gail',\n",
       " 'Harry',\n",
       " 'Jen',\n",
       " 'Irene',\n",
       " 'Piotr',\n",
       " 'Marek']"
      ]
     },
     "execution_count": 121,
     "metadata": {},
     "output_type": "execute_result"
    }
   ],
   "source": [
    "as1Graph.getVertices()"
   ]
  },
  {
   "cell_type": "code",
   "execution_count": 122,
   "id": "99267e4c",
   "metadata": {},
   "outputs": [],
   "source": [
    "as1Graph.addEdge(\"Marek\", \"Piotr\", 0.5)"
   ]
  },
  {
   "cell_type": "code",
   "execution_count": 123,
   "id": "6d2baece",
   "metadata": {},
   "outputs": [
    {
     "data": {
      "text/plain": [
       "[['Alice', 'Bob', 1],\n",
       " ['Carl', 'Alice', 1],\n",
       " ['Alice', 'David', 1],\n",
       " ['Alice', 'Ernst', 1],\n",
       " ['Alice', 'Frank', 1],\n",
       " ['Bob', 'Gail', 1],\n",
       " ['Gail', 'Harry', 1],\n",
       " ['Harry', 'Jen', 1],\n",
       " ['Jen', 'Gail', 1],\n",
       " ['Harry', 'Irene', 1],\n",
       " ['Irene', 'Gail', 1],\n",
       " ['Irene', 'Jen', 1],\n",
       " ['Ernst', 'Frank', 1],\n",
       " ['David', 'Carl', 1],\n",
       " ['Carl', 'Frank', 1],\n",
       " ['Marek', 'Piotr', 0.5]]"
      ]
     },
     "execution_count": 123,
     "metadata": {},
     "output_type": "execute_result"
    }
   ],
   "source": [
    "as1Graph.getEdges()"
   ]
  },
  {
   "cell_type": "code",
   "execution_count": 124,
   "id": "5719caa3",
   "metadata": {},
   "outputs": [
    {
     "data": {
      "text/plain": [
       "['Alice: no connection',\n",
       " 'Bob: no connection',\n",
       " 'Carl: no connection',\n",
       " 'David: no connection',\n",
       " 'Ernst: no connection',\n",
       " 'Frank: no connection',\n",
       " 'Gail: no connection',\n",
       " 'Harry: no connection',\n",
       " 'Jen: no connection',\n",
       " 'Irene: no connection',\n",
       " 'Piotr: our vertex index',\n",
       " 'Marek: 1']"
      ]
     },
     "execution_count": 124,
     "metadata": {},
     "output_type": "execute_result"
    }
   ],
   "source": [
    "as1Graph.getShortestPaths(\"Piotr\")"
   ]
  }
 ],
 "metadata": {
  "kernelspec": {
   "display_name": "Python 3",
   "language": "python",
   "name": "python3"
  },
  "language_info": {
   "codemirror_mode": {
    "name": "ipython",
    "version": 3
   },
   "file_extension": ".py",
   "mimetype": "text/x-python",
   "name": "python",
   "nbconvert_exporter": "python",
   "pygments_lexer": "ipython3",
   "version": "3.8.8"
  }
 },
 "nbformat": 4,
 "nbformat_minor": 5
}
