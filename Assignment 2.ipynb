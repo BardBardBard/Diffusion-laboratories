{
 "cells": [
  {
   "cell_type": "code",
   "execution_count": 2,
   "id": "70402293",
   "metadata": {},
   "outputs": [],
   "source": [
    "import numpy as np"
   ]
  },
  {
   "cell_type": "markdown",
   "id": "06a3bcf7",
   "metadata": {},
   "source": [
    "# Assignment 2"
   ]
  },
  {
   "cell_type": "code",
   "execution_count": 49,
   "id": "612cc3d9",
   "metadata": {},
   "outputs": [],
   "source": [
    "'''Creating class graph.\n",
    "    Graph has edges and vertices.'''\n",
    "class Graph:\n",
    "    def __init__(self):\n",
    "        self.vertices = []\n",
    "        self.edges = []\n",
    "    \n",
    "    '''Adds a vertex to the graph.\n",
    "        If such already exists, do not duplicate.'''\n",
    "    def addVertex(self, vert:str):\n",
    "        if not vert in self:\n",
    "            self.vertices.append(vert)\n",
    "\n",
    "            \n",
    "    '''Adds a list of vertices to the graph.\n",
    "        Uses previous function, hence no duplication.'''\n",
    "    def addVerticesFromList(self, vertList:list):\n",
    "        for vert in vertList:\n",
    "                self.addVertex(vert)\n",
    "            \n",
    "    \n",
    "    ''' Adds a new, weighted, undirected edge to the graph that connects two vertices.\n",
    "         If not in the graph, the vertices should be added automatically.\n",
    "          Tries not to duplicate edges, even if we change order (as it is undirected graph)'''\n",
    "    def addEdge(self, fromVert:str, toVert:str, weight:float=1):\n",
    "        if not([fromVert, toVert, weight] in self.edges or [toVert, fromVert, weight] in self.edges):\n",
    "            self.edges.append([fromVert, toVert, weight])\n",
    "            self.addVertex(fromVert)\n",
    "            self.addVertex(toVert)\n",
    "    \n",
    "    '''Add edges from given list.\n",
    "        Adds 1, so if there is no weight we have weight 1 and if there is already weight we do not look at that 1'''\n",
    "    def addEdgesFromList(self, edgeList:list):\n",
    "        for edge in edgeList:\n",
    "            edge.append(1)\n",
    "            if not(edge[0:3] in self.edges):\n",
    "                self.addEdge(edge[0], edge[1], edge[2]) \n",
    "                    \n",
    "            \n",
    "    '''Returns the list of all vertices in the graph '''\n",
    "    def getVertices(self):\n",
    "        return (self.vertices)\n",
    "    \n",
    "    '''Returns the list of all edges in the graph'''\n",
    "    def getEdges(self):\n",
    "        return (self.edges)\n",
    "    \n",
    "    '''Returns the list of all neighbors of the vertex labeled vertKey.\n",
    "        At first we check if vertex is in our network, to avoid pointless work.'''\n",
    "    def getNeighbors(self, vertKey:str):\n",
    "        if(vertKey in self): \n",
    "            listOfNeighbors = []\n",
    "            for edge in self.edges:\n",
    "                if(vertKey in edge):\n",
    "                    #if VertKey is at index 1, then neighbour is at 0, else it is at index |-1|\n",
    "                    listOfNeighbors.append(edge[abs(edge.index(vertKey)-1)]) \n",
    "\n",
    "            return listOfNeighbors\n",
    "        print(vertKey+\" not in network\")\n",
    "        \n",
    "    '''Returns True for a statement of the form vertex in graph, if the given vertex is in the graph, False otherwise.'''\n",
    "    def __contains__(self, other:str):\n",
    "        if(other in self.getVertices()):\n",
    "            return True\n",
    "        return False\n",
    "    \n",
    "    '''Writes dot representation of the graph to a text file and saves it in such form that we can copy that into Webgraphivz.'''\n",
    "    def saveGraph(self):\n",
    "    \n",
    "        with open('forWebgraphivz.txt', 'w') as f:\n",
    "            f.write(\"Graph \"+\" {\")\n",
    "            f.write('\\n')\n",
    "            for edge in self.edges:\n",
    "                f.write(edge[0]+\" -- \"+edge[1])\n",
    "                f.write('\\n')\n",
    "            f.write(\"}\")\n",
    "            f.write('\\n')\n",
    "            \n",
    "    \n",
    "    '''Gives a dot represantation of network.'''\n",
    "    def __str__(self):\n",
    "        new_str = \"\"\n",
    "        for edge in self.edges:\n",
    "            new_str=new_str+edge[0]+\" -- \"+edge[1]+\"\\n\"\n",
    "        return new_str\n",
    "    \n",
    "    \n",
    "    #There start functions needed to get shortest paths  \n",
    "    \n",
    "    '''Returns adjacency matrix, needed for algorithm.'''\n",
    "    def makeMatrix(self):\n",
    "        \n",
    "        listVert = self.getVertices() #we obtain list of vertices\n",
    "        ad_matrix = np.zeros((len(listVert), len(listVert))) #create matrix of zeros\n",
    "        for edge in self.getEdges(): #if j and k art connected, then a_j,k equals weight of this edge\n",
    "            ad_matrix[listVert.index(edge[0]), listVert.index(edge[1])] = edge[2]\n",
    "            ad_matrix[listVert.index(edge[1]), listVert.index(edge[0])] = edge[2]\n",
    "        return ad_matrix\n",
    "    \n",
    "    '''Function needed to dijkstra.\n",
    "        function taken from https://www.geeksforgeeks.org/dijkstras-shortest-path-algorithm-greedy-algo-7/.'''\n",
    "    def minDistance(self, dist:list, sptSet:list, V:int):\n",
    " \n",
    "        # Initialize minimum distance for next node\n",
    "        mini = 1e7\n",
    " \n",
    "        # Search not nearest vertex not in the\n",
    "        # shortest path tree\n",
    "        for v in range(V):\n",
    "            if dist[v] < mini and sptSet[v] == False:\n",
    "                mini = dist[v]\n",
    "                min_index = v\n",
    " \n",
    "        return min_index\n",
    "    \n",
    "    '''Dijkstra algorithm for shortest paths.\n",
    "        src is index of vertex from which we start.'''\n",
    "    def dijkstra(self, src:int):\n",
    "        V = len(self.getVertices()) \n",
    "        graph = self.makeMatrix() \n",
    " \n",
    "        dist = [1e7] * V #as we will be looking for minimum\n",
    "        dist[src] = 0\n",
    "        sptSet = [False] * V #to check if vertices were already visited\n",
    " \n",
    "        for cout in range(V):\n",
    " \n",
    "            # Pick the minimum distance vertex from\n",
    "            # the set of vertices not yet processed.\n",
    "            # u is always equal to src in first iteration\n",
    "            u = self.minDistance(dist, sptSet, V)\n",
    " \n",
    "            # Put the minimum distance vertex in the\n",
    "            # shortest path tree\n",
    "            sptSet[u] = True\n",
    " \n",
    "            # Update dist value of the adjacent vertices\n",
    "            # of the picked vertex only if the current\n",
    "            # distance is greater than new distance and\n",
    "            # the vertex in not in the shortest path tree\n",
    "            for v in range(V):\n",
    "                if (graph[u][v] > 0 and\n",
    "                   sptSet[v] == False and\n",
    "                   dist[v] > dist[u] + graph[u][v]):\n",
    "                    dist[v] = dist[u] + graph[u][v]\n",
    " \n",
    "        return dist\n",
    "    \n",
    "    '''Returns shortest path of said vertex.\n",
    "        Uses previous function, but changes indexrs into names.'''\n",
    "    def getShortestPaths(self, name:str):\n",
    "        listVert = self.getVertices()\n",
    "        paths = self.dijkstra(listVert.index(name))\n",
    "        for element in range(len(paths)):\n",
    "            if(paths[element]==len(listVert)):\n",
    "                paths[element]=listVert[element]+\": \"+'no connection'\n",
    "            else:\n",
    "                paths[element] = listVert[element]+\": \"+str(paths[element])\n",
    "        return paths"
   ]
  },
  {
   "cell_type": "markdown",
   "id": "abbcb1f5",
   "metadata": {},
   "source": [
    "## Task 2"
   ]
  },
  {
   "cell_type": "code",
   "execution_count": 50,
   "id": "3aff759e",
   "metadata": {},
   "outputs": [],
   "source": [
    "as1Graph = Graph()"
   ]
  },
  {
   "cell_type": "code",
   "execution_count": 51,
   "id": "3ce8af7d",
   "metadata": {},
   "outputs": [],
   "source": [
    "as1List = [[\"Alice\", \"Bob\"], [\"Carl\", \"Alice\"], [\"Alice\", \"David\"], [\"Alice\", \"Ernst\"], [\"Alice\", \"Frank\"],\n",
    "          [\"Bob\", \"Gail\"], [\"Gail\", \"Harry\"], [\"Harry\", \"Jen\"], [\"Jen\", \"Gail\"], [\"Harry\", \"Irene\"],\n",
    "          [\"Irene\", \"Gail\"], [\"Irene\", \"Jen\"], [\"Ernst\", \"Frank\"], [\"David\", \"Carl\"], [\"Carl\", \"Frank\"]]"
   ]
  },
  {
   "cell_type": "code",
   "execution_count": 52,
   "id": "9027bae8",
   "metadata": {},
   "outputs": [],
   "source": [
    "as1Graph.addEdgesFromList(as1List)"
   ]
  },
  {
   "cell_type": "code",
   "execution_count": 53,
   "id": "e0f2ed0c",
   "metadata": {},
   "outputs": [
    {
     "data": {
      "text/plain": [
       "['Alice',\n",
       " 'Bob',\n",
       " 'Carl',\n",
       " 'David',\n",
       " 'Ernst',\n",
       " 'Frank',\n",
       " 'Gail',\n",
       " 'Harry',\n",
       " 'Jen',\n",
       " 'Irene']"
      ]
     },
     "execution_count": 53,
     "metadata": {},
     "output_type": "execute_result"
    }
   ],
   "source": [
    "as1Graph.getVertices()"
   ]
  },
  {
   "cell_type": "code",
   "execution_count": 54,
   "id": "de7cd4a2",
   "metadata": {},
   "outputs": [
    {
     "data": {
      "text/plain": [
       "[['Alice', 'Bob', 1],\n",
       " ['Carl', 'Alice', 1],\n",
       " ['Alice', 'David', 1],\n",
       " ['Alice', 'Ernst', 1],\n",
       " ['Alice', 'Frank', 1],\n",
       " ['Bob', 'Gail', 1],\n",
       " ['Gail', 'Harry', 1],\n",
       " ['Harry', 'Jen', 1],\n",
       " ['Jen', 'Gail', 1],\n",
       " ['Harry', 'Irene', 1],\n",
       " ['Irene', 'Gail', 1],\n",
       " ['Irene', 'Jen', 1],\n",
       " ['Ernst', 'Frank', 1],\n",
       " ['David', 'Carl', 1],\n",
       " ['Carl', 'Frank', 1]]"
      ]
     },
     "execution_count": 54,
     "metadata": {},
     "output_type": "execute_result"
    }
   ],
   "source": [
    "as1Graph.getEdges()"
   ]
  },
  {
   "cell_type": "code",
   "execution_count": 55,
   "id": "3cfee854",
   "metadata": {},
   "outputs": [
    {
     "name": "stdout",
     "output_type": "stream",
     "text": [
      "Alice -- Bob\n",
      "Carl -- Alice\n",
      "Alice -- David\n",
      "Alice -- Ernst\n",
      "Alice -- Frank\n",
      "Bob -- Gail\n",
      "Gail -- Harry\n",
      "Harry -- Jen\n",
      "Jen -- Gail\n",
      "Harry -- Irene\n",
      "Irene -- Gail\n",
      "Irene -- Jen\n",
      "Ernst -- Frank\n",
      "David -- Carl\n",
      "Carl -- Frank\n",
      "\n"
     ]
    }
   ],
   "source": [
    "print(as1Graph)"
   ]
  },
  {
   "cell_type": "code",
   "execution_count": 56,
   "id": "195acc4d",
   "metadata": {},
   "outputs": [
    {
     "data": {
      "text/plain": [
       "['Alice: 0',\n",
       " 'Bob: 1.0',\n",
       " 'Carl: 1.0',\n",
       " 'David: 1.0',\n",
       " 'Ernst: 1.0',\n",
       " 'Frank: 1.0',\n",
       " 'Gail: 2.0',\n",
       " 'Harry: 3.0',\n",
       " 'Jen: 3.0',\n",
       " 'Irene: 3.0']"
      ]
     },
     "execution_count": 56,
     "metadata": {},
     "output_type": "execute_result"
    }
   ],
   "source": [
    "as1Graph.getShortestPaths(\"Alice\")"
   ]
  },
  {
   "cell_type": "code",
   "execution_count": 57,
   "id": "96c8462c",
   "metadata": {},
   "outputs": [],
   "source": [
    "as1Graph.saveGraph()"
   ]
  }
 ],
 "metadata": {
  "kernelspec": {
   "display_name": "Python 3",
   "language": "python",
   "name": "python3"
  },
  "language_info": {
   "codemirror_mode": {
    "name": "ipython",
    "version": 3
   },
   "file_extension": ".py",
   "mimetype": "text/x-python",
   "name": "python",
   "nbconvert_exporter": "python",
   "pygments_lexer": "ipython3",
   "version": "3.8.8"
  }
 },
 "nbformat": 4,
 "nbformat_minor": 5
}
