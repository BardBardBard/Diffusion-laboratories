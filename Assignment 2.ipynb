{
 "cells": [
  {
   "cell_type": "code",
   "execution_count": 1,
   "id": "70402293",
   "metadata": {},
   "outputs": [],
   "source": [
    "import numpy as np"
   ]
  },
  {
   "cell_type": "markdown",
   "id": "06a3bcf7",
   "metadata": {},
   "source": [
    "# Assignment 2"
   ]
  },
  {
   "cell_type": "code",
   "execution_count": 109,
   "id": "612cc3d9",
   "metadata": {},
   "outputs": [],
   "source": [
    "'''Creating class graph'''\n",
    "class Graph:\n",
    "    def __init__(self):\n",
    "        self.vertices = []\n",
    "        self.edges = []\n",
    "    \n",
    "    '''adds a vertex to the graph'''\n",
    "    def addVertex(self, vert):\n",
    "        self.vertices.append(vert)\n",
    "        \n",
    "    '''adds a list of vertices to the graph'''\n",
    "    def addVerticesFromList(self, vertList):\n",
    "        self.vertices.extend(vertList)\n",
    "    \n",
    "    ''' adds a new, weighted, undirected edge to the graph that connects two vertices.\n",
    "            If not in the graph, the vertices should be added automatically'''\n",
    "    def addEdge(self, fromVert, toVert, weight=1):\n",
    "        self.edges.append([fromVert, toVert, weight])\n",
    "        if not(fromVert in self.getVertices()):\n",
    "            self.addVertex(fromVert)\n",
    "        if not(toVert in self.getVertices()):\n",
    "            self.addVertex(toVert)\n",
    "    \n",
    "    '''add edges from given list.\n",
    "        Try and except as we do not have to include weight'''\n",
    "    def addEdgesFromList(self, edgeList):\n",
    "        for edge in edgeList:\n",
    "            try:\n",
    "                self.addEdge(edge[0], edge[1], edge[2])\n",
    "            except:\n",
    "                self.addEdge(edge[0], edge[1])   \n",
    "            \n",
    "    '''returns the list of all vertices in the graph '''\n",
    "    def getVertices(self):\n",
    "        return (self.vertices)\n",
    "    \n",
    "    '''returns the list of all edges in the graph'''\n",
    "    def getEdges(self):\n",
    "        return (self.edges)\n",
    "    \n",
    "    '''returns the list of all neighbors of the vertex labeled vertKey.\n",
    "        At first we check if vertex is in our network, to avoid pointless work'''\n",
    "    def getNeighbors(self, vertKey):\n",
    "        if(vertKey in self): \n",
    "            listOfNeighbors = []\n",
    "            for singleton in self.edges:\n",
    "                if(singleton[0]==vertKey):\n",
    "                    listOfNeighbors.append(singleton[1])\n",
    "                elif(singleton[1]==vertKey):\n",
    "                    listOfNeighbors.append(singleton[0])\n",
    "            return listOfNeighbors\n",
    "        print(vertKey+\" not in network\")\n",
    "        \n",
    "    '''returns True for a statement of the form vertex in graph, if the given vertex is in the graph, False otherwise'''\n",
    "    def __contains__(self, other):\n",
    "        if(other in self.getVertices()):\n",
    "            return True\n",
    "        return False\n",
    "    \n",
    "    '''writes dot representation of the graph to a text file'''\n",
    "    #def saveGraph(graph)"
   ]
  },
  {
   "cell_type": "markdown",
   "id": "92039d7f",
   "metadata": {},
   "source": [
    "To do: add saveGraph and proceed to task nr 2\n",
    "\n",
    "Add documentation and annotation (def sum(x:float, y:float)->float\n",
    "   return x+y\n",
    "if = contains"
   ]
  },
  {
   "cell_type": "code",
   "execution_count": 103,
   "id": "4418ed3a",
   "metadata": {},
   "outputs": [],
   "source": [
    "myGraph = Graph()"
   ]
  },
  {
   "cell_type": "code",
   "execution_count": 104,
   "id": "7306cb43",
   "metadata": {},
   "outputs": [],
   "source": [
    "myGraph.addEdge(\"A\", \"B\")"
   ]
  },
  {
   "cell_type": "code",
   "execution_count": 105,
   "id": "c997741e",
   "metadata": {},
   "outputs": [],
   "source": [
    "List = [[\"B\", \"C\"], [\"E\", \"F\", 1], [\"E\", \"A\", 1], [1,2, 0.3]]"
   ]
  },
  {
   "cell_type": "code",
   "execution_count": 106,
   "id": "10e6d9f2",
   "metadata": {},
   "outputs": [],
   "source": [
    "myGraph.addEdgesFromList(List)"
   ]
  },
  {
   "cell_type": "code",
   "execution_count": 107,
   "id": "986ae710",
   "metadata": {},
   "outputs": [
    {
     "data": {
      "text/plain": [
       "[['A', 'B', 1], ['B', 'C', 1], ['E', 'F', 1], ['E', 'A', 1], [1, 2, 0.3]]"
      ]
     },
     "execution_count": 107,
     "metadata": {},
     "output_type": "execute_result"
    }
   ],
   "source": [
    "myGraph.getEdges()"
   ]
  },
  {
   "cell_type": "code",
   "execution_count": 92,
   "id": "5048e09a",
   "metadata": {},
   "outputs": [
    {
     "data": {
      "text/plain": [
       "['A', 'B', 'C', 'E', 'F']"
      ]
     },
     "execution_count": 92,
     "metadata": {},
     "output_type": "execute_result"
    }
   ],
   "source": [
    "myGraph.getVertices()"
   ]
  },
  {
   "cell_type": "code",
   "execution_count": 93,
   "id": "9b6245a3",
   "metadata": {},
   "outputs": [],
   "source": [
    "myGraph.addVerticesFromList([\"C\", \"D\", \"F\"])"
   ]
  },
  {
   "cell_type": "code",
   "execution_count": 94,
   "id": "0b70966b",
   "metadata": {},
   "outputs": [
    {
     "data": {
      "text/plain": [
       "True"
      ]
     },
     "execution_count": 94,
     "metadata": {},
     "output_type": "execute_result"
    }
   ],
   "source": [
    "'A' in myGraph.getVertices()"
   ]
  },
  {
   "cell_type": "code",
   "execution_count": 95,
   "id": "49e10dbf",
   "metadata": {},
   "outputs": [
    {
     "data": {
      "text/plain": [
       "['A', 'C']"
      ]
     },
     "execution_count": 95,
     "metadata": {},
     "output_type": "execute_result"
    }
   ],
   "source": [
    "myGraph.getNeighbors(\"B\")"
   ]
  },
  {
   "cell_type": "code",
   "execution_count": 101,
   "id": "0917d7cf",
   "metadata": {},
   "outputs": [
    {
     "name": "stdout",
     "output_type": "stream",
     "text": [
      "G not in network\n"
     ]
    }
   ],
   "source": [
    "myGraph.getNeighbors(\"G\")"
   ]
  }
 ],
 "metadata": {
  "kernelspec": {
   "display_name": "Python 3",
   "language": "python",
   "name": "python3"
  },
  "language_info": {
   "codemirror_mode": {
    "name": "ipython",
    "version": 3
   },
   "file_extension": ".py",
   "mimetype": "text/x-python",
   "name": "python",
   "nbconvert_exporter": "python",
   "pygments_lexer": "ipython3",
   "version": "3.8.8"
  }
 },
 "nbformat": 4,
 "nbformat_minor": 5
}
