{
 "cells": [
  {
   "cell_type": "code",
   "execution_count": 168,
   "id": "40e9845f",
   "metadata": {},
   "outputs": [
    {
     "ename": "ModuleNotFoundError",
     "evalue": "No module named 'imageio.v2'",
     "output_type": "error",
     "traceback": [
      "\u001b[1;31m---------------------------------------------------------------------------\u001b[0m",
      "\u001b[1;31mModuleNotFoundError\u001b[0m                       Traceback (most recent call last)",
      "Input \u001b[1;32mIn [168]\u001b[0m, in \u001b[0;36m<cell line: 4>\u001b[1;34m()\u001b[0m\n\u001b[0;32m      2\u001b[0m \u001b[38;5;28;01mimport\u001b[39;00m \u001b[38;5;21;01mnumpy\u001b[39;00m \u001b[38;5;28;01mas\u001b[39;00m \u001b[38;5;21;01mnp\u001b[39;00m\n\u001b[0;32m      3\u001b[0m \u001b[38;5;28;01mimport\u001b[39;00m \u001b[38;5;21;01mimageio\u001b[39;00m\n\u001b[1;32m----> 4\u001b[0m \u001b[38;5;28;01mimport\u001b[39;00m \u001b[38;5;21;01mimageio\u001b[39;00m\u001b[38;5;21;01m.\u001b[39;00m\u001b[38;5;21;01mv2\u001b[39;00m \u001b[38;5;28;01mas\u001b[39;00m \u001b[38;5;21;01miv2\u001b[39;00m\n",
      "\u001b[1;31mModuleNotFoundError\u001b[0m: No module named 'imageio.v2'"
     ]
    }
   ],
   "source": [
    "import matplotlib.pyplot as plt\n",
    "import numpy as np\n",
    "import imageio"
   ]
  },
  {
   "cell_type": "markdown",
   "id": "9c8719e1",
   "metadata": {},
   "source": [
    "1. create animation (imageio is recommended)\n",
    "2. most probable for An and Bn\n",
    "3. check program on graphs from previous list, barabasi, wats strogatz and random. of couse use Monte Carlo approach. it need to hit all other note\n",
    "try to use Rise (rise pypi) to create presentation"
   ]
  },
  {
   "cell_type": "markdown",
   "id": "06e2c8da",
   "metadata": {},
   "source": [
    "# Task 1"
   ]
  },
  {
   "cell_type": "code",
   "execution_count": 169,
   "id": "d705ca61",
   "metadata": {},
   "outputs": [],
   "source": [
    "'''creates random walk on a square lattice consisting of N steps, then saves it into gif\n",
    "'''\n",
    "def walk(N=int, saved_name = 'task1.gif'):\n",
    "    walks = 2*np.random.randint(0,2, size=(N,2))-1 #create N vectors where x1 in [-1,1] and x2 in [-1,1]\n",
    "    for i in range(len(walks[:,1])): #as we want to move on square, not diagonals, in each vector we will change one value to 0\n",
    "        walks[i,int(np.floor(2*np.random.random()))] = 0\n",
    "    vals = np.append([[0,0]],np.cumsum(walks, axis=0), axis=0) #with starting point\n",
    "    #now we need limit for plot to have static gif\n",
    "    llimx = min(vals[:,0])-2\n",
    "    rlimx = max(vals[:,0])+2\n",
    "    llimy = min(vals[:,1])-2\n",
    "    rlimy = max(vals[:,1])+2\n",
    "    \n",
    "    #preparing figure\n",
    "    fig, ax = plt.subplots(figsize=(7,7))\n",
    "    ax.set_xlim(llimx,rlimx)\n",
    "    ax.set_ylim(llimy,rlimy)\n",
    "    ax.grid()\n",
    "    ax.scatter(0,0, edgecolors='green')\n",
    "    #plt.savefig(f'img/task1_{0}.png', transparent = False, facecolor = 'white')\n",
    "    ax.plot([0, vals[0,0]], [0, vals[0,1]], markerfacecolor='blue')\n",
    "    #plt.savefig(f'img/task1_{1}.png', transparent = False, facecolor = 'white')\n",
    "    \n",
    "    \n",
    "    #need to correct colors, add io that will delete pngs and combine it into gif\n",
    "    for stepy in range(N+1):\n",
    "        ax.plot(vals[:,0][:stepy+1], vals[:,1][:stepy+1], markerfacecolor='blue')\n",
    "        ax.scatter(vals[:,0][stepy], vals[:,1][stepy], edgecolors='red')\n",
    "        #plt.savefig(f'img/task1_{stepy+2}.png', transparent = False, facecolor = 'white')\n",
    "    \n",
    "    '''correct this, as there is a problem with imageio.v2\n",
    "    frames = []\n",
    "    for t in range(N+1):\n",
    "        image = imageio.v2.imread(f'./img/task1_{t}.png')\n",
    "        frames.append(image)\n",
    "    imageio.mimsave('./example.gif', # output gif\n",
    "                frames,          # array of input frames\n",
    "                fps = 1)\n",
    "    '''"
   ]
  },
  {
   "cell_type": "code",
   "execution_count": 170,
   "id": "9cbfe66f",
   "metadata": {},
   "outputs": [
    {
     "data": {
      "image/png": "[encoded data removed]",
      "text/plain": [
       "<Figure size 504x504 with 1 Axes>"
      ]
     },
     "metadata": {
      "needs_background": "light"
     },
     "output_type": "display_data"
    }
   ],
   "source": [
    "walk(5)"
   ]
  },
  {
   "cell_type": "code",
   "execution_count": null,
   "id": "e8d306fb",
   "metadata": {},
   "outputs": [],
   "source": []
  }
 ],
 "metadata": {
  "kernelspec": {
   "display_name": "Python 3 (ipykernel)",
   "language": "python",
   "name": "python3"
  },
  "language_info": {
   "codemirror_mode": {
    "name": "ipython",
    "version": 3
   },
   "file_extension": ".py",
   "mimetype": "text/x-python",
   "name": "python",
   "nbconvert_exporter": "python",
   "pygments_lexer": "ipython3",
   "version": "3.9.12"
  }
 },
 "nbformat": 4,
 "nbformat_minor": 5
}
