{
 "cells": [
  {
   "cell_type": "code",
   "execution_count": 1,
   "id": "40e9845f",
   "metadata": {
    "slideshow": {
     "slide_type": "notes"
    }
   },
   "outputs": [],
   "source": [
    "import matplotlib.pyplot as plt\n",
    "import numpy as np\n",
    "import imageio\n",
    "import time\n",
    "import os\n",
    "from sklearn.neighbors import KernelDensity\n",
    "import networkx as nx\n",
    "import random"
   ]
  },
  {
   "cell_type": "markdown",
   "id": "9c8719e1",
   "metadata": {
    "slideshow": {
     "slide_type": "skip"
    }
   },
   "source": [
    "1. create animation (imageio is recommended)\n",
    "2. most probable for An and Bn\n",
    "3. check program on graphs from previous list, barabasi, wats strogatz and random. of couse use Monte Carlo approach. it need to hit all other note\n",
    "try to use Rise (rise pypi) to create presentation"
   ]
  },
  {
   "cell_type": "markdown",
   "id": "06e2c8da",
   "metadata": {
    "slideshow": {
     "slide_type": "slide"
    }
   },
   "source": [
    "# Task 1"
   ]
  },
  {
   "cell_type": "markdown",
   "id": "7d474e4f",
   "metadata": {
    "slideshow": {
     "slide_type": "fragment"
    }
   },
   "source": [
    "Simulate a random walk of an agent on a square lattice and create gif"
   ]
  },
  {
   "cell_type": "code",
   "execution_count": 79,
   "id": "d705ca61",
   "metadata": {
    "slideshow": {
     "slide_type": "skip"
    }
   },
   "outputs": [],
   "source": [
    "'''creates random walk on a square lattice consisting of N steps, then saves it into gif\n",
    "    IMPORTANT: if simply opening the file doesn't run gif, open it using broswer\n",
    "'''\n",
    "def walk(N=int, saved_name = 'task1.gif'):\n",
    "    walks = 2*np.random.randint(0,2, size=(N,2))-1 #create N vectors where x1 in [-1,1] and x2 in [-1,1]\n",
    "    for i in range(len(walks[:,1])): #as we want to move on square, not diagonals, in each vector we will change one value to 0\n",
    "        walks[i,int(np.floor(2*np.random.random()))] = 0\n",
    "    vals = np.append([[0,0]],np.cumsum(walks, axis=0), axis=0) #with starting point\n",
    "    \n",
    "    #now we need limit for plot to have static gif\n",
    "    llimx = min(vals[:,0])-2\n",
    "    rlimx = max(vals[:,0])+2\n",
    "    llimy = min(vals[:,1])-2\n",
    "    rlimy = max(vals[:,1])+2\n",
    "    \n",
    "    #preparing figure\n",
    "    fig, ax = plt.subplots(figsize=(7,7))\n",
    "    ax.set_xlim(llimx,rlimx)\n",
    "    ax.set_ylim(llimy,rlimy)\n",
    "    ax.grid()\n",
    "    ax.scatter(0,0, edgecolors='green');\n",
    "    ax.plot([0, vals[0,0]], [0, vals[0,1]], markerfacecolor='blue')\n",
    "    \n",
    "    #clearing plot and adding it anew, so that point states where is our plot heading\n",
    "    for stepy in range(N+1):\n",
    "        ax.cla()\n",
    "        ax.set_title('Random walk on a square lattice')\n",
    "        ax.set_xlim(llimx,rlimx)\n",
    "        ax.set_ylim(llimy,rlimy)\n",
    "        ax.grid()\n",
    "        \n",
    "        ax.plot(vals[:,0][:stepy+1], vals[:,1][:stepy+1], markerfacecolor='blue');\n",
    "        ax.scatter(vals[:,0][stepy], vals[:,1][stepy], edgecolors='red');\n",
    "        \n",
    "        plt.savefig(f'./task1_{stepy}.png', transparent = False, facecolor = 'white')\n",
    "        \n",
    "    #save frames and delete files\n",
    "    frames = []\n",
    "    for t in range(N+1):\n",
    "        frames.append(imageio.imread(f'./task1_{t}.png'))\n",
    "        os.remove(f'./task1_{t}.png')\n",
    "        \n",
    "    #create gif\n",
    "    imageio.mimsave('./'+saved_name+'.gif', frames, duration=0.5)"
   ]
  },
  {
   "cell_type": "code",
   "execution_count": 80,
   "id": "9cbfe66f",
   "metadata": {
    "slideshow": {
     "slide_type": "subslide"
    }
   },
   "outputs": [
    {
     "data": {
      "image/png": "[encoded data removed]",
      "text/plain": [
       "<Figure size 504x504 with 1 Axes>"
      ]
     },
     "metadata": {
      "needs_background": "light"
     },
     "output_type": "display_data"
    }
   ],
   "source": [
    "walk(20, 'L');"
   ]
  },
  {
   "cell_type": "markdown",
   "id": "9f0effd6",
   "metadata": {
    "slideshow": {
     "slide_type": "subslide"
    }
   },
   "source": [
    "<img src=\"L.gif\" width=\"750\" align=\"center\">"
   ]
  },
  {
   "cell_type": "markdown",
   "id": "e09eb231",
   "metadata": {
    "slideshow": {
     "slide_type": "slide"
    }
   },
   "source": [
    "# Task 2"
   ]
  },
  {
   "cell_type": "markdown",
   "id": "28c0f738",
   "metadata": {
    "slideshow": {
     "slide_type": "fragment"
    }
   },
   "source": [
    "Simulate Pearson's random walk in the plane. Count how often agent is: x>0 and also x,y>0"
   ]
  },
  {
   "cell_type": "code",
   "execution_count": 3,
   "id": "2fd28f6a",
   "metadata": {
    "slideshow": {
     "slide_type": "skip"
    }
   },
   "outputs": [],
   "source": [
    "def pearson_walk(N=10):\n",
    "    #creates angles between [0, 2pi] then saves them into columns of X and Y\n",
    "    angles = np.random.random(N)*2*np.pi\n",
    "    xs = np.atleast_2d(np.cos(angles)).T\n",
    "    ys = np.atleast_2d(np.sin(angles)).T\n",
    "    \n",
    "    directions = np.append(xs, ys, axis=1) #\n",
    "    positions = np.cumsum(directions, axis=0)\n",
    "    #An = sum(positions[0,:]>0)\n",
    "    \n",
    "    An = 0\n",
    "    Bn = 0\n",
    "    \n",
    "    for ind in range(N):\n",
    "        if(positions[ind, 0]>0):\n",
    "            An+=1\n",
    "            if(positions[ind, 1]>0):\n",
    "                Bn+=1\n",
    "    \n",
    "    return An/N, Bn/N"
   ]
  },
  {
   "cell_type": "code",
   "execution_count": 4,
   "id": "3963ab1e",
   "metadata": {
    "slideshow": {
     "slide_type": "skip"
    }
   },
   "outputs": [],
   "source": [
    "def MC_pear(mc=1000):\n",
    "    Ans = []\n",
    "    Bns = []\n",
    "    for i in range(mc):\n",
    "        an, bn = pearson_walk(1000)\n",
    "        Ans.append(an)\n",
    "        Bns.append(bn)\n",
    "    return Ans, Bns"
   ]
  },
  {
   "cell_type": "code",
   "execution_count": 5,
   "id": "fb14b389",
   "metadata": {
    "slideshow": {
     "slide_type": "subslide"
    }
   },
   "outputs": [],
   "source": [
    "a,b = MC_pear(10000)"
   ]
  },
  {
   "cell_type": "code",
   "execution_count": 6,
   "id": "40ed7073",
   "metadata": {
    "slideshow": {
     "slide_type": "subslide"
    }
   },
   "outputs": [
    {
     "data": {
      "text/plain": [
       "0.50074"
      ]
     },
     "execution_count": 6,
     "metadata": {},
     "output_type": "execute_result"
    }
   ],
   "source": [
    "np.mean(a)"
   ]
  },
  {
   "cell_type": "code",
   "execution_count": 7,
   "id": "236f7820",
   "metadata": {
    "slideshow": {
     "slide_type": "subslide"
    }
   },
   "outputs": [
    {
     "data": {
      "text/plain": [
       "0.2507239"
      ]
     },
     "execution_count": 7,
     "metadata": {},
     "output_type": "execute_result"
    }
   ],
   "source": [
    "np.mean(b)"
   ]
  },
  {
   "cell_type": "markdown",
   "id": "a66536c9",
   "metadata": {
    "slideshow": {
     "slide_type": "subslide"
    }
   },
   "source": [
    "### Density with histogram plot"
   ]
  },
  {
   "cell_type": "code",
   "execution_count": 180,
   "id": "27a4601a",
   "metadata": {
    "slideshow": {
     "slide_type": "subslide"
    }
   },
   "outputs": [
    {
     "data": {
      "image/png": "[encoded data removed]",
      "text/plain": [
       "<Figure size 432x288 with 1 Axes>"
      ]
     },
     "metadata": {
      "needs_background": "light"
     },
     "output_type": "display_data"
    }
   ],
   "source": [
    "plt.hist(a, bins=25);"
   ]
  },
  {
   "cell_type": "code",
   "execution_count": 181,
   "id": "d0bf7c7d",
   "metadata": {
    "slideshow": {
     "slide_type": "subslide"
    }
   },
   "outputs": [
    {
     "data": {
      "image/png": "[encoded data removed]",
      "text/plain": [
       "<Figure size 432x288 with 1 Axes>"
      ]
     },
     "metadata": {
      "needs_background": "light"
     },
     "output_type": "display_data"
    }
   ],
   "source": [
    "plt.hist(b, bins=25);"
   ]
  },
  {
   "cell_type": "markdown",
   "id": "0a94cbd6",
   "metadata": {
    "slideshow": {
     "slide_type": "subslide"
    }
   },
   "source": [
    "### Pdf using Kernel Density"
   ]
  },
  {
   "cell_type": "code",
   "execution_count": 38,
   "id": "c4add0a3",
   "metadata": {
    "slideshow": {
     "slide_type": "subslide"
    }
   },
   "outputs": [
    {
     "data": {
      "text/plain": [
       "[<matplotlib.lines.Line2D at 0x2d70b1d9c40>]"
      ]
     },
     "execution_count": 38,
     "metadata": {},
     "output_type": "execute_result"
    },
    {
     "data": {
      "image/png": "[encoded data removed]",
      "text/plain": [
       "<Figure size 432x288 with 1 Axes>"
      ]
     },
     "metadata": {
      "needs_background": "light"
     },
     "output_type": "display_data"
    }
   ],
   "source": [
    "A = np.array(a)[:, np.newaxis]\n",
    "X_plot = np.linspace(0, 1, 1000)[:, np.newaxis]\n",
    "kde = KernelDensity(kernel='gaussian', bandwidth=0.01).fit(A)\n",
    "log_dens = kde.score_samples(X_plot)\n",
    "plt.plot(X_plot[:, 0], np.exp(log_dens))"
   ]
  },
  {
   "cell_type": "code",
   "execution_count": 39,
   "id": "62023ad3",
   "metadata": {
    "slideshow": {
     "slide_type": "subslide"
    }
   },
   "outputs": [
    {
     "data": {
      "text/plain": [
       "[<matplotlib.lines.Line2D at 0x2d70b2369d0>]"
      ]
     },
     "execution_count": 39,
     "metadata": {},
     "output_type": "execute_result"
    },
    {
     "data": {
      "image/png": "[encoded data removed]",
      "text/plain": [
       "<Figure size 432x288 with 1 Axes>"
      ]
     },
     "metadata": {
      "needs_background": "light"
     },
     "output_type": "display_data"
    }
   ],
   "source": [
    "B = np.array(b)[:, np.newaxis]\n",
    "X_plot = np.linspace(0, 1, 1000)[:, np.newaxis]\n",
    "kde = KernelDensity(kernel='gaussian', bandwidth=0.01).fit(B)\n",
    "log_dens = kde.score_samples(X_plot)\n",
    "plt.plot(X_plot[:, 0], np.exp(log_dens))"
   ]
  },
  {
   "cell_type": "markdown",
   "id": "848b94ab",
   "metadata": {
    "slideshow": {
     "slide_type": "skip"
    }
   },
   "source": [
    "As in histogram plot, we can see that for An, most probable scenarios are that either agent stays all time in right side or rarely visits it. As for Bn, most often it spends not much time on {x>0, y>0}"
   ]
  },
  {
   "cell_type": "markdown",
   "id": "93683efa",
   "metadata": {
    "slideshow": {
     "slide_type": "subslide"
    }
   },
   "source": [
    "### Now produce some plots to show how it works"
   ]
  },
  {
   "cell_type": "code",
   "execution_count": 198,
   "id": "a652f67d",
   "metadata": {
    "slideshow": {
     "slide_type": "skip"
    }
   },
   "outputs": [],
   "source": [
    "def pearson_plot(N=100):\n",
    "    #creates angles between [0, 2pi] then saves them into columns of X and Y\n",
    "    angles = np.random.random(N)*2*np.pi\n",
    "    xs = np.atleast_2d(np.cos(angles)).T\n",
    "    ys = np.atleast_2d(np.sin(angles)).T\n",
    "    \n",
    "    directions = np.append(xs, ys, axis=1)\n",
    "    #as it does not contain 0\n",
    "    directions = np.append([[0,0]], directions, axis=0)\n",
    "    positions = np.cumsum(directions, axis=0)\n",
    "    \n",
    "    plt.scatter(0,0, label='starting plot')\n",
    "    plt.plot(positions[:,0], positions[:,1])\n",
    "    plt.legend()"
   ]
  },
  {
   "cell_type": "code",
   "execution_count": 199,
   "id": "7118f548",
   "metadata": {
    "slideshow": {
     "slide_type": "fragment"
    }
   },
   "outputs": [
    {
     "data": {
      "image/png": "[encoded data removed]",
      "text/plain": [
       "<Figure size 432x288 with 1 Axes>"
      ]
     },
     "metadata": {
      "needs_background": "light"
     },
     "output_type": "display_data"
    }
   ],
   "source": [
    "pearson_plot()"
   ]
  },
  {
   "cell_type": "code",
   "execution_count": 200,
   "id": "acb8bce2",
   "metadata": {
    "slideshow": {
     "slide_type": "subslide"
    }
   },
   "outputs": [
    {
     "data": {
      "image/png": "[encoded data removed]",
      "text/plain": [
       "<Figure size 432x288 with 1 Axes>"
      ]
     },
     "metadata": {
      "needs_background": "light"
     },
     "output_type": "display_data"
    }
   ],
   "source": [
    "pearson_plot()"
   ]
  },
  {
   "cell_type": "code",
   "execution_count": 201,
   "id": "607f1825",
   "metadata": {
    "slideshow": {
     "slide_type": "fragment"
    }
   },
   "outputs": [
    {
     "data": {
      "image/png": "[encoded data removed]",
      "text/plain": [
       "<Figure size 432x288 with 1 Axes>"
      ]
     },
     "metadata": {
      "needs_background": "light"
     },
     "output_type": "display_data"
    }
   ],
   "source": [
    "pearson_plot()"
   ]
  },
  {
   "cell_type": "markdown",
   "id": "9ce31d80",
   "metadata": {
    "slideshow": {
     "slide_type": "slide"
    }
   },
   "source": [
    "# Task 3"
   ]
  },
  {
   "cell_type": "markdown",
   "id": "cf21d398",
   "metadata": {
    "slideshow": {
     "slide_type": "fragment"
    }
   },
   "source": [
    "Simulate random walk on a graph, using these from previous assingnment. Produce some gif\n",
    "\n",
    "Let us implement graphs"
   ]
  },
  {
   "cell_type": "code",
   "execution_count": 4,
   "id": "2c39e413",
   "metadata": {
    "slideshow": {
     "slide_type": "skip"
    }
   },
   "outputs": [],
   "source": [
    "#There will be Erdos-Renyi model, for graph with fixed number of links L between N nodes \n",
    "def Ernyi(N=20, L=20):\n",
    "    if(L>N*(N-1)/2):\n",
    "        raise ValueError (\"To many edges!\") # of course we cannot create matrix of 3 nodes with 4 edges\n",
    "    G = nx.Graph()\n",
    "    G.add_nodes_from([i+1 for i in range(N)]) #so we can start from 1\n",
    "    iterator = 0\n",
    "    while(iterator<L):\n",
    "        [i,j] = random.sample(list(G.nodes), 2) #we take two nodes\n",
    "        if not((i, j) in G.edges):\n",
    "            G.add_edge(i, j) #we add\n",
    "        else: #to maintain proper number of links\n",
    "            iterator = iterator-1 \n",
    "        iterator = iterator + 1\n",
    "    \n",
    "    return G\n",
    "\n",
    "#N is number of nodes, k is number of closest neighbours and p is probability that we change edge in single step\n",
    "def Watatz(N=20, k=4, p=1):\n",
    "    if(k%2==1):\n",
    "        raise ValueError (\"Need even number of closest neighbours!\")\n",
    "    \n",
    "    #creates starting graph//do not move\n",
    "    G = nx.Graph()\n",
    "    G.add_nodes_from([i for i in range(N)])\n",
    "    \n",
    "    for i in G.nodes:\n",
    "        for ki in range(int(k/2)):\n",
    "            G.add_edges_from([((i+N-1-ki)%N,i), ((i+N+1+ki)%N,i)]) #calculations so N-1 is connected with 0\n",
    "    \n",
    "    #changes link for each\n",
    "    new_G = nx.Graph()\n",
    "    iterator = 0\n",
    "\n",
    "    for link in G.edges:\n",
    "        #relinking\n",
    "        if(random.random()<p): #if we succeed in relinking\n",
    "            new_link = link #for now it is as before\n",
    "            if(random.random()<0.5): #whether relink node 1 or 2 from edge\n",
    "                #we do not want link that already was in network, not that we have in currently created one\n",
    "                while(new_link in list(G.edges)[iterator:] or new_link in new_G.edges):\n",
    "                    for_choice = list(G.nodes)\n",
    "                    for_choice.remove(new_link[0])\n",
    "                    relink = random.choice(for_choice)\n",
    "                    new_link = (new_link[0], relink)\n",
    "                new_G.add_edge(new_link[0], new_link[1])\n",
    "            else: #same procedure, but we change second end of edge\n",
    "                while(new_link in list(G.edges)[iterator:] or new_link in new_G.edges):\n",
    "                    for_choice = list(G.nodes)\n",
    "                    for_choice.remove(new_link[1])\n",
    "                    relink = random.choice(for_choice)\n",
    "                    new_link = (relink, new_link[1])\n",
    "                new_G.add_edge(new_link[0], new_link[1])\n",
    "        else: #we simply add link that existed in starting network\n",
    "            new_G.add_edge(link[0], link[1])\n",
    "        iterator = iterator+1\n",
    "        \n",
    "    new_G.add_nodes_from(list(G.nodes)) #in case some node got totally unconnected\n",
    "    \n",
    "    return new_G\n",
    "\n",
    "''' we start with m0 nodes and in each step we add node connected to m<m0 previous nodes until we reach N nodes\n",
    "    after t steps we should have N=m0+t nodes and E=m0+mt edges\n",
    "'''\n",
    "def Barabasi(m0, m, t):\n",
    "    '''creating, start from 1 to be similar with previous ones\n",
    "        we want to start with m0 nodes, m0 edges and each link connected,\n",
    "        so I just start with triangle, then add new linked nodes'''\n",
    "    \n",
    "    G = nx.Graph()\n",
    "    G.add_edges_from([(1,2), (1,3), (2,3)])\n",
    "    for i in range(3,m0+1): \n",
    "        G.add_edge(i, random.choice(list(G.nodes)))\n",
    "        \n",
    "    #now we add new nodes, choose m distinct edges coming from new node\n",
    "    for tau in range(t):\n",
    "        pi = [nx.degree(G, nody)/(sum([nx.degree(G, n) for n in G.nodes])) for nody in G.nodes] #probability for each node\n",
    "        choice_list =  np.random.choice(list(G.nodes), m, p=pi, replace=False) #choose randomly with no repetinions\n",
    "        \n",
    "        for link in choice_list:\n",
    "            G.add_edge(link, tau+m0+1)\n",
    "         #in case we do not link it to any node\n",
    "      \n",
    "    return G"
   ]
  },
  {
   "cell_type": "code",
   "execution_count": 52,
   "id": "99a8e058",
   "metadata": {
    "slideshow": {
     "slide_type": "fragment"
    }
   },
   "outputs": [],
   "source": [
    "G_r = Ernyi(20, 40)\n",
    "G_w = Watatz(20, 4, 0.5)\n",
    "G_b = Barabasi(3, 3, 17)"
   ]
  },
  {
   "cell_type": "markdown",
   "id": "f6fa2e3c",
   "metadata": {
    "slideshow": {
     "slide_type": "skip"
    }
   },
   "source": [
    "### Creating plot saving function"
   ]
  },
  {
   "cell_type": "code",
   "execution_count": 45,
   "id": "90e1b15a",
   "metadata": {
    "slideshow": {
     "slide_type": "skip"
    }
   },
   "outputs": [],
   "source": [
    "def walk_graph(G, agent=1, name_movie = 'Movie'):\n",
    "    #preparing list with visiting times\n",
    "    nodes = list(G.nodes())\n",
    "    N = len(nodes)\n",
    "    walks = [0 for _ in range(N)]#np.zeros(len(nodes))\n",
    "    walks[nodes.index(agent)]=1 #at the end remember to substract 1\n",
    "    \n",
    "    #coloring nodes\n",
    "    color_map = ['blue' for i in range(N)]\n",
    "    color_map[nodes.index(agent)] = 'green'\n",
    "    nx.draw_spectral(G, node_color=color_map)\n",
    "    plt.savefig(f'./task3_{0}.png', transparent = False, facecolor = 'white')\n",
    "    \n",
    "    #value holding currently visited node\n",
    "    current_visitor = agent\n",
    "    steps_stepped = 0\n",
    "    #loop\n",
    "    while(np.prod(walks)==0):\n",
    "        steps_stepped+=1\n",
    "        current_visitor = random.choice(list(G.neighbors(current_visitor))) #we move to neighbour\n",
    "        \n",
    "        walks[nodes.index(current_visitor)] = 1 #'this was visited'\n",
    "        color_map[nodes.index(current_visitor)] = 'red' #here we are\n",
    "        nx.draw_spectral(G, node_color=color_map) #color for plot\n",
    "        \n",
    "        plt.savefig(f'./task3_{steps_stepped}.png', transparent = False, facecolor = 'white')\n",
    "        \n",
    "        color_map[nodes.index(current_visitor)] = 'green' #I'd like to have starting node clear whole time\n",
    "    \n",
    "    #save frames and delete files\n",
    "    frames = []\n",
    "    for t in range(steps_stepped+1):\n",
    "        frames.append(imageio.imread(f'./task3_{t}.png'))\n",
    "        os.remove(f'./task3_{t}.png')\n",
    "        \n",
    "    #create gif\n",
    "    imageio.mimsave('./'+name_movie+'.gif', frames, duration=0.25)\n",
    "    \n",
    "    return steps_stepped"
   ]
  },
  {
   "cell_type": "code",
   "execution_count": 55,
   "id": "5748b104",
   "metadata": {
    "slideshow": {
     "slide_type": "subslide"
    }
   },
   "outputs": [],
   "source": [
    "walk_graph(G_r, 1, 'random');"
   ]
  },
  {
   "cell_type": "markdown",
   "id": "7ddc8b57",
   "metadata": {
    "slideshow": {
     "slide_type": "fragment"
    }
   },
   "source": [
    "<img src=\"random.gif\" width=\"600\" align=\"center\">"
   ]
  },
  {
   "cell_type": "code",
   "execution_count": 56,
   "id": "fb7dfcbe",
   "metadata": {
    "slideshow": {
     "slide_type": "subslide"
    }
   },
   "outputs": [],
   "source": [
    "walk_graph(G_w, 1, 'watatz')"
   ]
  },
  {
   "cell_type": "markdown",
   "id": "7b463eb1",
   "metadata": {
    "slideshow": {
     "slide_type": "fragment"
    }
   },
   "source": [
    "<img src=\"watatz.gif\" width=\"600\" align=\"center\">"
   ]
  },
  {
   "cell_type": "code",
   "execution_count": 57,
   "id": "2cba66ef",
   "metadata": {
    "slideshow": {
     "slide_type": "subslide"
    }
   },
   "outputs": [],
   "source": [
    "walk_graph(G_b, 1, 'barabasi')"
   ]
  },
  {
   "cell_type": "markdown",
   "id": "df1c051d",
   "metadata": {
    "slideshow": {
     "slide_type": "fragment"
    }
   },
   "source": [
    "<img src=\"barabasi.gif\" width=\"600\" align=\"center\">"
   ]
  },
  {
   "cell_type": "markdown",
   "id": "02f5b6f9",
   "metadata": {
    "slideshow": {
     "slide_type": "subslide"
    }
   },
   "source": [
    "### Now, average walk"
   ]
  },
  {
   "cell_type": "code",
   "execution_count": 27,
   "id": "87d7e38a",
   "metadata": {
    "slideshow": {
     "slide_type": "skip"
    }
   },
   "outputs": [],
   "source": [
    "def statistic_walk_graph(G, agent=1):\n",
    "    #preparing list with visiting times\n",
    "    nodes = list(G.nodes())\n",
    "    N = len(nodes)\n",
    "    walks = [0 for _ in range(N)]#np.zeros(len(nodes))\n",
    "    walks[nodes.index(agent)]=1 #at the end remember to substract 1\n",
    "    \n",
    "    \n",
    "    #value holding currently visited node\n",
    "    current_visitor = agent\n",
    "    steps_stepped = 0\n",
    "    #loop\n",
    "    while(np.prod(walks)==0):\n",
    "        steps_stepped+=1\n",
    "        current_visitor = random.choice(list(G.neighbors(current_visitor))) #we move to neighbour\n",
    "        \n",
    "        walks[nodes.index(current_visitor)] = 1 #'this was visited'\n",
    "    \n",
    "    #save frames and delete files\n",
    "    \n",
    "    return steps_stepped"
   ]
  },
  {
   "cell_type": "code",
   "execution_count": 5,
   "id": "419f408e",
   "metadata": {
    "slideshow": {
     "slide_type": "subslide"
    }
   },
   "outputs": [],
   "source": [
    "G_r = Ernyi(100, 400)\n",
    "G_w = Watatz(100, 6, 0.5)\n",
    "G_b = Barabasi(3, 3, 97)"
   ]
  },
  {
   "cell_type": "code",
   "execution_count": 43,
   "id": "339e56b9",
   "metadata": {
    "slideshow": {
     "slide_type": "subslide"
    }
   },
   "outputs": [
    {
     "name": "stdout",
     "output_type": "stream",
     "text": [
      "1348.713\n"
     ]
    },
    {
     "data": {
      "image/png": "[encoded data removed]",
      "text/plain": [
       "<Figure size 432x288 with 1 Axes>"
      ]
     },
     "metadata": {
      "needs_background": "light"
     },
     "output_type": "display_data"
    }
   ],
   "source": [
    "r_walks = [statistic_walk_graph(G_r, 1) for i in range(1000)]\n",
    "plt.hist(r_walks);\n",
    "plt.title('Average hitting time for node 1 - random graph');\n",
    "print(np.mean(r_walks))"
   ]
  },
  {
   "cell_type": "code",
   "execution_count": 42,
   "id": "8bc88b45",
   "metadata": {
    "slideshow": {
     "slide_type": "subslide"
    }
   },
   "outputs": [
    {
     "name": "stdout",
     "output_type": "stream",
     "text": [
      "798.024\n"
     ]
    },
    {
     "data": {
      "image/png": "[encoded data removed]",
      "text/plain": [
       "<Figure size 432x288 with 1 Axes>"
      ]
     },
     "metadata": {
      "needs_background": "light"
     },
     "output_type": "display_data"
    }
   ],
   "source": [
    "w_walks = [statistic_walk_graph(G_w, 1) for i in range(1000)]\n",
    "plt.hist(w_walks);\n",
    "plt.title('Average hitting time for node 1 - Watts-Strogatz graph');\n",
    "print(np.mean(w_walks))"
   ]
  },
  {
   "cell_type": "code",
   "execution_count": 41,
   "id": "de6d2a63",
   "metadata": {
    "slideshow": {
     "slide_type": "subslide"
    }
   },
   "outputs": [
    {
     "name": "stdout",
     "output_type": "stream",
     "text": [
      "1000.534\n"
     ]
    },
    {
     "data": {
      "image/png": "[encoded data removed]",
      "text/plain": [
       "<Figure size 432x288 with 1 Axes>"
      ]
     },
     "metadata": {
      "needs_background": "light"
     },
     "output_type": "display_data"
    }
   ],
   "source": [
    "b_walks = [statistic_walk_graph(G_b, 1) for i in range(1000)]\n",
    "plt.hist(b_walks);\n",
    "plt.title('Average hitting time for node 1 - Barabasi-Albert graph');\n",
    "print(np.mean(b_walks))"
   ]
  },
  {
   "cell_type": "markdown",
   "id": "80b37f81",
   "metadata": {
    "slideshow": {
     "slide_type": "subslide"
    }
   },
   "source": [
    "### Now, does it differ for each node?"
   ]
  },
  {
   "cell_type": "code",
   "execution_count": 12,
   "id": "9c55dfaf",
   "metadata": {
    "slideshow": {
     "slide_type": "fragment"
    }
   },
   "outputs": [],
   "source": [
    "r_mean_walks = [np.mean([statistic_walk_graph(G_r, j) for i in range(1000)]) for j in G_r.nodes]"
   ]
  },
  {
   "cell_type": "code",
   "execution_count": 38,
   "id": "6277928b",
   "metadata": {
    "slideshow": {
     "slide_type": "fragment"
    }
   },
   "outputs": [
    {
     "data": {
      "text/plain": [
       "Text(0.5, 1.0, 'Random graph - average hitting times for all nodes')"
      ]
     },
     "execution_count": 38,
     "metadata": {},
     "output_type": "execute_result"
    },
    {
     "data": {
      "image/png": "[encoded data removed]",
      "text/plain": [
       "<Figure size 432x288 with 1 Axes>"
      ]
     },
     "metadata": {
      "needs_background": "light"
     },
     "output_type": "display_data"
    }
   ],
   "source": [
    "plt.hist(r_mean_walks);\n",
    "plt.title('Random graph - average hitting times for all nodes');"
   ]
  },
  {
   "cell_type": "code",
   "execution_count": 33,
   "id": "f1fab335",
   "metadata": {
    "slideshow": {
     "slide_type": "skip"
    }
   },
   "outputs": [],
   "source": [
    "w_mean_walks = [np.mean([statistic_walk_graph(G_w, j) for i in range(1000)]) for j in G_w.nodes]"
   ]
  },
  {
   "cell_type": "code",
   "execution_count": 39,
   "id": "6c0fa25f",
   "metadata": {
    "slideshow": {
     "slide_type": "subslide"
    }
   },
   "outputs": [
    {
     "data": {
      "image/png": "[encoded data removed]",
      "text/plain": [
       "<Figure size 432x288 with 1 Axes>"
      ]
     },
     "metadata": {
      "needs_background": "light"
     },
     "output_type": "display_data"
    }
   ],
   "source": [
    "plt.hist(w_mean_walks);\n",
    "plt.title('Watts-Strogratz graph - average hitting times for all nodes');"
   ]
  },
  {
   "cell_type": "code",
   "execution_count": 35,
   "id": "3a67402c",
   "metadata": {
    "slideshow": {
     "slide_type": "skip"
    }
   },
   "outputs": [],
   "source": [
    "b_mean_walks = [np.mean([statistic_walk_graph(G_b, j) for i in range(1000)]) for j in G_b.nodes]"
   ]
  },
  {
   "cell_type": "code",
   "execution_count": 40,
   "id": "6e030ef2",
   "metadata": {
    "slideshow": {
     "slide_type": "subslide"
    }
   },
   "outputs": [
    {
     "data": {
      "image/png": "[encoded data removed]",
      "text/plain": [
       "<Figure size 432x288 with 1 Axes>"
      ]
     },
     "metadata": {
      "needs_background": "light"
     },
     "output_type": "display_data"
    }
   ],
   "source": [
    "plt.hist(b_mean_walks);\n",
    "plt.title('Barabasi-Albert graph - average hitting times for all nodes');"
   ]
  }
 ],
 "metadata": {
  "kernelspec": {
   "display_name": "Python 3",
   "language": "python",
   "name": "python3"
  },
  "language_info": {
   "codemirror_mode": {
    "name": "ipython",
    "version": 3
   },
   "file_extension": ".py",
   "mimetype": "text/x-python",
   "name": "python",
   "nbconvert_exporter": "python",
   "pygments_lexer": "ipython3",
   "version": "3.8.8"
  }
 },
 "nbformat": 4,
 "nbformat_minor": 5
}
